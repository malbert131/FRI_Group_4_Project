{
 "cells": [
  {
   "cell_type": "markdown",
   "metadata": {},
   "source": [
    "#### Goal\n",
    "\n",
    "Using Machine Learning algorithms to accurately predict the location of Uranium deposits using\n",
    "surface level-data, such as magnetic and radiometric values\n",
    "\n",
    "\n",
    "#### Project Description\n",
    "\n",
    "Our main dataset for training/testing is from the United States Geological Survey and was gathered in 1976. In this survey, data was gathered by aircraft that flew over the border area of New Mexico and Texas, and recorded magnetic-field and radiometric values and locations. Contained in this dataset are latitude, longitude, altitude, and magnetic-field values. Additionally, there are geologic symbols detailing the area in the data sets. The aircrafts tracked the locations of Uranium, Thorium, and Potassium, but we will be focusing on Uranium in this project. We plan to group the different elements using Agglomerative Hierarchical Clustering. "
   ]
  },
  {
   "cell_type": "markdown",
   "metadata": {},
   "source": [
    "This section of imports displays the various packages used in our project"
   ]
  },
  {
   "cell_type": "code",
   "execution_count": 96,
   "metadata": {},
   "outputs": [],
   "source": [
    "import pandas as pd # used for DataFrames\n",
    "import numpy as np # used for numpy arrays\n",
    "import matplotlib.pyplot as plt # used to graphically visualize data points\n",
    "from sklearn.cluster import AgglomerativeClustering, KMeans, DBSCAN # for machine learning algorithms\n",
    "import scipy.cluster.hierarchy as sch # for dendrograms\n",
    "from sklearn.preprocessing import MinMaxScaler # for normalizing data\n",
    "from sklearn.neighbors import NearestNeighbors # for determining optimal value for epsilon (DBSCAN)\n",
    "import geopandas as gp # used for spatial DataFrames"
   ]
  },
  {
   "cell_type": "markdown",
   "metadata": {},
   "source": [
    "Function to organize .xyz file data into python list with correct data types of features.\n",
    "Lists will be used as input data in Pandas DataFrame"
   ]
  },
  {
   "cell_type": "code",
   "execution_count": 97,
   "metadata": {},
   "outputs": [],
   "source": [
    "def xyz_to_list(xyz_file):\n",
    "    data_list = []\n",
    "    for row in xyz_file:\n",
    "        # splits rows of .xyz data to list of strings\n",
    "        row_array = row.split()\n",
    "        # changes string values in list to correct data type\n",
    "        for i in range(len(row_array)):\n",
    "            if row_array[i].find(\".\") != -1:\n",
    "                row_array[i] = float(row_array[i])\n",
    "            elif row_array[i].isdigit() or row_array[i][1:].isdigit():\n",
    "                row_array[i] = int(row_array[i])\n",
    "        # adds list of row data to the main list\n",
    "        data_list.append(row_array)\n",
    "    # returns organized list of data\n",
    "    return data_list"
   ]
  },
  {
   "cell_type": "code",
   "execution_count": 98,
   "metadata": {},
   "outputs": [
    {
     "name": "stdout",
     "output_type": "stream",
     "text": [
      "[16, 211, 115600, 103, 1976, 34.696, -101.9878, 139.9, 53303.7, -176.9, -9999.9, 'TO', 107.0]\n"
     ]
    }
   ],
   "source": [
    "# Magnetic .xyz file to python list\n",
    "clovis_mag = \"CLOVIS/clovis_mag.xyz\" # magnetic data file path\n",
    "xyz_mag = open(clovis_mag, \"r\") # create xyz file object\n",
    "mag_list = xyz_to_list(xyz_mag) # magnetic data formatted in python list\n",
    "\n",
    "print(mag_list[0])"
   ]
  },
  {
   "cell_type": "markdown",
   "metadata": {},
   "source": [
    "Cell creates DataFrame for the magnetic data and removes the features that we decided were unnecessary"
   ]
  },
  {
   "cell_type": "code",
   "execution_count": 99,
   "metadata": {},
   "outputs": [],
   "source": [
    "# DataFrame for magnetic data\n",
    "mag_DataFrame = pd.DataFrame(mag_list, columns=[\"line\", \"fid\", \"time\", \"day\", \"year\", \"latitude\", \n",
    "                                    \"longitude\", \"radalt\", \"totmag\", \"resmag\", \"diurnal\", \"geology\", \"resmagCM4\"])\n",
    "\n",
    "# Option forces all columns of data to be printed in the DataFrame\n",
    "pd.set_option('display.max_columns', None)\n",
    "\n",
    "# uses drop() function to remove line, time, day, and year features from the magnetic dataset\n",
    "mag_DataFrame = mag_DataFrame.drop(columns=[\"line\", \"time\", \"day\", \"year\"])\n",
    "\n",
    "# sorts DataFrame based on longitude values\n",
    "mag_DataFrame = mag_DataFrame.sort_values(\"longitude\")\n",
    "\n",
    "# resets index values to start a 0 and goes to max\n",
    "mag_DataFrame = mag_DataFrame.reset_index(drop=True)"
   ]
  },
  {
   "cell_type": "code",
   "execution_count": 100,
   "metadata": {},
   "outputs": [
    {
     "data": {
      "text/html": [
       "<div>\n",
       "<style scoped>\n",
       "    .dataframe tbody tr th:only-of-type {\n",
       "        vertical-align: middle;\n",
       "    }\n",
       "\n",
       "    .dataframe tbody tr th {\n",
       "        vertical-align: top;\n",
       "    }\n",
       "\n",
       "    .dataframe thead th {\n",
       "        text-align: right;\n",
       "    }\n",
       "</style>\n",
       "<table border=\"1\" class=\"dataframe\">\n",
       "  <thead>\n",
       "    <tr style=\"text-align: right;\">\n",
       "      <th></th>\n",
       "      <th>fid</th>\n",
       "      <th>latitude</th>\n",
       "      <th>longitude</th>\n",
       "      <th>radalt</th>\n",
       "      <th>totmag</th>\n",
       "      <th>resmag</th>\n",
       "      <th>diurnal</th>\n",
       "      <th>geology</th>\n",
       "      <th>resmagCM4</th>\n",
       "    </tr>\n",
       "  </thead>\n",
       "  <tbody>\n",
       "    <tr>\n",
       "      <th>0</th>\n",
       "      <td>3118</td>\n",
       "      <td>34.7439</td>\n",
       "      <td>-104.0281</td>\n",
       "      <td>147.2</td>\n",
       "      <td>52602.1</td>\n",
       "      <td>-587.9</td>\n",
       "      <td>-9999.9</td>\n",
       "      <td>TO</td>\n",
       "      <td>-313.4</td>\n",
       "    </tr>\n",
       "    <tr>\n",
       "      <th>1</th>\n",
       "      <td>3117</td>\n",
       "      <td>34.7439</td>\n",
       "      <td>-104.0281</td>\n",
       "      <td>147.2</td>\n",
       "      <td>52602.1</td>\n",
       "      <td>-587.9</td>\n",
       "      <td>-9999.9</td>\n",
       "      <td>TO</td>\n",
       "      <td>-313.4</td>\n",
       "    </tr>\n",
       "    <tr>\n",
       "      <th>2</th>\n",
       "      <td>3119</td>\n",
       "      <td>34.7439</td>\n",
       "      <td>-104.0281</td>\n",
       "      <td>147.2</td>\n",
       "      <td>52602.1</td>\n",
       "      <td>-587.9</td>\n",
       "      <td>-9999.9</td>\n",
       "      <td>TO</td>\n",
       "      <td>-313.4</td>\n",
       "    </tr>\n",
       "    <tr>\n",
       "      <th>3</th>\n",
       "      <td>3120</td>\n",
       "      <td>34.7444</td>\n",
       "      <td>-104.0274</td>\n",
       "      <td>148.7</td>\n",
       "      <td>52600.5</td>\n",
       "      <td>-589.7</td>\n",
       "      <td>-9999.9</td>\n",
       "      <td>TO</td>\n",
       "      <td>-315.4</td>\n",
       "    </tr>\n",
       "    <tr>\n",
       "      <th>4</th>\n",
       "      <td>3121</td>\n",
       "      <td>34.7449</td>\n",
       "      <td>-104.0266</td>\n",
       "      <td>149.7</td>\n",
       "      <td>52601.2</td>\n",
       "      <td>-589.6</td>\n",
       "      <td>-9999.9</td>\n",
       "      <td>TO</td>\n",
       "      <td>-315.0</td>\n",
       "    </tr>\n",
       "    <tr>\n",
       "      <th>5</th>\n",
       "      <td>3122</td>\n",
       "      <td>34.7450</td>\n",
       "      <td>-104.0258</td>\n",
       "      <td>147.2</td>\n",
       "      <td>52603.3</td>\n",
       "      <td>-587.7</td>\n",
       "      <td>-9999.9</td>\n",
       "      <td>TO</td>\n",
       "      <td>-313.2</td>\n",
       "    </tr>\n",
       "    <tr>\n",
       "      <th>6</th>\n",
       "      <td>3123</td>\n",
       "      <td>34.7456</td>\n",
       "      <td>-104.0251</td>\n",
       "      <td>143.6</td>\n",
       "      <td>52604.0</td>\n",
       "      <td>-587.6</td>\n",
       "      <td>-9999.9</td>\n",
       "      <td>TO</td>\n",
       "      <td>-313.1</td>\n",
       "    </tr>\n",
       "    <tr>\n",
       "      <th>7</th>\n",
       "      <td>3124</td>\n",
       "      <td>34.7460</td>\n",
       "      <td>-104.0243</td>\n",
       "      <td>141.4</td>\n",
       "      <td>52606.6</td>\n",
       "      <td>-585.4</td>\n",
       "      <td>-9999.9</td>\n",
       "      <td>TO</td>\n",
       "      <td>-310.9</td>\n",
       "    </tr>\n",
       "    <tr>\n",
       "      <th>8</th>\n",
       "      <td>2664</td>\n",
       "      <td>34.2108</td>\n",
       "      <td>-104.0242</td>\n",
       "      <td>181.1</td>\n",
       "      <td>52721.6</td>\n",
       "      <td>-135.7</td>\n",
       "      <td>-9999.9</td>\n",
       "      <td>QTP</td>\n",
       "      <td>130.6</td>\n",
       "    </tr>\n",
       "    <tr>\n",
       "      <th>9</th>\n",
       "      <td>3125</td>\n",
       "      <td>34.7461</td>\n",
       "      <td>-104.0235</td>\n",
       "      <td>142.3</td>\n",
       "      <td>52605.1</td>\n",
       "      <td>-587.1</td>\n",
       "      <td>-9999.9</td>\n",
       "      <td>TO</td>\n",
       "      <td>-312.6</td>\n",
       "    </tr>\n",
       "  </tbody>\n",
       "</table>\n",
       "</div>"
      ],
      "text/plain": [
       "    fid  latitude  longitude  radalt   totmag  resmag  diurnal geology  \\\n",
       "0  3118   34.7439  -104.0281   147.2  52602.1  -587.9  -9999.9      TO   \n",
       "1  3117   34.7439  -104.0281   147.2  52602.1  -587.9  -9999.9      TO   \n",
       "2  3119   34.7439  -104.0281   147.2  52602.1  -587.9  -9999.9      TO   \n",
       "3  3120   34.7444  -104.0274   148.7  52600.5  -589.7  -9999.9      TO   \n",
       "4  3121   34.7449  -104.0266   149.7  52601.2  -589.6  -9999.9      TO   \n",
       "5  3122   34.7450  -104.0258   147.2  52603.3  -587.7  -9999.9      TO   \n",
       "6  3123   34.7456  -104.0251   143.6  52604.0  -587.6  -9999.9      TO   \n",
       "7  3124   34.7460  -104.0243   141.4  52606.6  -585.4  -9999.9      TO   \n",
       "8  2664   34.2108  -104.0242   181.1  52721.6  -135.7  -9999.9     QTP   \n",
       "9  3125   34.7461  -104.0235   142.3  52605.1  -587.1  -9999.9      TO   \n",
       "\n",
       "   resmagCM4  \n",
       "0     -313.4  \n",
       "1     -313.4  \n",
       "2     -313.4  \n",
       "3     -315.4  \n",
       "4     -315.0  \n",
       "5     -313.2  \n",
       "6     -313.1  \n",
       "7     -310.9  \n",
       "8      130.6  \n",
       "9     -312.6  "
      ]
     },
     "execution_count": 100,
     "metadata": {},
     "output_type": "execute_result"
    }
   ],
   "source": [
    "# First 10 rows of mag data\n",
    "mag_DataFrame.head(10)"
   ]
  },
  {
   "cell_type": "markdown",
   "metadata": {},
   "source": [
    "#### Magnetic DataFrame Labels (70228 rows × 9 columns)\n",
    "\n",
    "\n",
    "    0: fiducial number (integer)\n",
    "    1: latitude (decimal degrees)\n",
    "    2: longitude (decimal degrees)\n",
    "    3: radar altimeter reading above ground (meters)\n",
    "    4: corrected magnetic value (nT)\n",
    "    5: residual magnetic value (nT)\n",
    "    6: ground magnetometer value (nT)\n",
    "    7: surficial geology beneath flight line (coded)\n",
    "    8: resmag calculated using the comprehensive model (nT)"
   ]
  },
  {
   "cell_type": "code",
   "execution_count": 101,
   "metadata": {},
   "outputs": [
    {
     "name": "stdout",
     "output_type": "stream",
     "text": [
      "[1, 1, 171900, 102, 1976, 34.0081, -104.0169, 141.1, -266.0, -99, -9999, 140.0, 9.0, 27.0, -999.9, -999.9, -999.9, 3614.0, 601.0, 20.8, 651.3]\n"
     ]
    }
   ],
   "source": [
    "# Radiometric xyz file to python lists\n",
    "clovis_rad = \"CLOVIS/clovis_rad.xyz\" # radiometric data file path\n",
    "xyz_rad = open(clovis_rad, \"r\") # create xyz file object\n",
    "rad_list = xyz_to_list(xyz_rad) # radiometric data formatted in python list\n",
    "\n",
    "print(rad_list[0])"
   ]
  },
  {
   "cell_type": "markdown",
   "metadata": {},
   "source": [
    "Cell creates DataFrame for the radiometric data and removes the features that we decided were unnecessary"
   ]
  },
  {
   "cell_type": "code",
   "execution_count": 102,
   "metadata": {},
   "outputs": [],
   "source": [
    "# DataFrame for radiometric data\n",
    "rad_DataFrame = pd.DataFrame(rad_list, columns = [\"line\", \"fid\", \"time\", \"day\", \"year\", \"latitude\", \"longitude\", \"radalt\", \"resmag\", \"geology\", \"qual\", \n",
    "                            \"app_K\", \"app_U\", \"app_Th\", \"U_Th_ratio\", \"U_K_ratio\", \"Th_K_ratio\", \"total_count\", \"atmos_BI214\", \"air_temp\", \"air_press\"])\n",
    "\n",
    "\n",
    "# uses drop() function to remove line, time, day, and year features from the radiometric dataset\n",
    "rad_DataFrame = rad_DataFrame.drop(columns=[\"line\", \"time\", \"day\", \"year\"])\n",
    "\n",
    "# sorts DataFrame based on longitude values\n",
    "rad_DataFrame = rad_DataFrame.sort_values(\"longitude\")\n",
    "\n",
    "# resets index values to start a 0 to max\n",
    "rad_DataFrame = rad_DataFrame.reset_index(drop=True)"
   ]
  },
  {
   "cell_type": "code",
   "execution_count": 103,
   "metadata": {},
   "outputs": [
    {
     "data": {
      "text/html": [
       "<div>\n",
       "<style scoped>\n",
       "    .dataframe tbody tr th:only-of-type {\n",
       "        vertical-align: middle;\n",
       "    }\n",
       "\n",
       "    .dataframe tbody tr th {\n",
       "        vertical-align: top;\n",
       "    }\n",
       "\n",
       "    .dataframe thead th {\n",
       "        text-align: right;\n",
       "    }\n",
       "</style>\n",
       "<table border=\"1\" class=\"dataframe\">\n",
       "  <thead>\n",
       "    <tr style=\"text-align: right;\">\n",
       "      <th></th>\n",
       "      <th>fid</th>\n",
       "      <th>latitude</th>\n",
       "      <th>longitude</th>\n",
       "      <th>radalt</th>\n",
       "      <th>resmag</th>\n",
       "      <th>geology</th>\n",
       "      <th>qual</th>\n",
       "      <th>app_K</th>\n",
       "      <th>app_U</th>\n",
       "      <th>app_Th</th>\n",
       "      <th>U_Th_ratio</th>\n",
       "      <th>U_K_ratio</th>\n",
       "      <th>Th_K_ratio</th>\n",
       "      <th>total_count</th>\n",
       "      <th>atmos_BI214</th>\n",
       "      <th>air_temp</th>\n",
       "      <th>air_press</th>\n",
       "    </tr>\n",
       "  </thead>\n",
       "  <tbody>\n",
       "    <tr>\n",
       "      <th>0</th>\n",
       "      <td>3117</td>\n",
       "      <td>34.7439</td>\n",
       "      <td>-104.0281</td>\n",
       "      <td>147.2</td>\n",
       "      <td>-587.0</td>\n",
       "      <td>-99</td>\n",
       "      <td>-9999</td>\n",
       "      <td>173.0</td>\n",
       "      <td>130.0</td>\n",
       "      <td>45.0</td>\n",
       "      <td>-999.9</td>\n",
       "      <td>-999.9</td>\n",
       "      <td>-999.9</td>\n",
       "      <td>5021.0</td>\n",
       "      <td>287.0</td>\n",
       "      <td>17.7</td>\n",
       "      <td>630.9</td>\n",
       "    </tr>\n",
       "    <tr>\n",
       "      <th>1</th>\n",
       "      <td>3118</td>\n",
       "      <td>34.7439</td>\n",
       "      <td>-104.0281</td>\n",
       "      <td>147.2</td>\n",
       "      <td>-587.0</td>\n",
       "      <td>-99</td>\n",
       "      <td>-9999</td>\n",
       "      <td>173.0</td>\n",
       "      <td>130.0</td>\n",
       "      <td>45.0</td>\n",
       "      <td>-999.9</td>\n",
       "      <td>-999.9</td>\n",
       "      <td>-999.9</td>\n",
       "      <td>5021.0</td>\n",
       "      <td>287.0</td>\n",
       "      <td>17.7</td>\n",
       "      <td>630.9</td>\n",
       "    </tr>\n",
       "    <tr>\n",
       "      <th>2</th>\n",
       "      <td>3119</td>\n",
       "      <td>34.7439</td>\n",
       "      <td>-104.0281</td>\n",
       "      <td>147.2</td>\n",
       "      <td>-587.0</td>\n",
       "      <td>-99</td>\n",
       "      <td>-9999</td>\n",
       "      <td>173.0</td>\n",
       "      <td>130.0</td>\n",
       "      <td>45.0</td>\n",
       "      <td>-999.9</td>\n",
       "      <td>-999.9</td>\n",
       "      <td>-999.9</td>\n",
       "      <td>5021.0</td>\n",
       "      <td>287.0</td>\n",
       "      <td>17.7</td>\n",
       "      <td>630.9</td>\n",
       "    </tr>\n",
       "    <tr>\n",
       "      <th>3</th>\n",
       "      <td>3120</td>\n",
       "      <td>34.7444</td>\n",
       "      <td>-104.0274</td>\n",
       "      <td>148.7</td>\n",
       "      <td>-589.0</td>\n",
       "      <td>-99</td>\n",
       "      <td>-9999</td>\n",
       "      <td>225.0</td>\n",
       "      <td>65.0</td>\n",
       "      <td>67.0</td>\n",
       "      <td>-999.9</td>\n",
       "      <td>-999.9</td>\n",
       "      <td>-999.9</td>\n",
       "      <td>5137.0</td>\n",
       "      <td>287.0</td>\n",
       "      <td>17.7</td>\n",
       "      <td>630.9</td>\n",
       "    </tr>\n",
       "    <tr>\n",
       "      <th>4</th>\n",
       "      <td>3121</td>\n",
       "      <td>34.7449</td>\n",
       "      <td>-104.0266</td>\n",
       "      <td>149.7</td>\n",
       "      <td>-589.0</td>\n",
       "      <td>-99</td>\n",
       "      <td>-9999</td>\n",
       "      <td>191.0</td>\n",
       "      <td>160.0</td>\n",
       "      <td>56.0</td>\n",
       "      <td>-999.9</td>\n",
       "      <td>-999.9</td>\n",
       "      <td>-999.9</td>\n",
       "      <td>5093.0</td>\n",
       "      <td>288.0</td>\n",
       "      <td>17.7</td>\n",
       "      <td>628.7</td>\n",
       "    </tr>\n",
       "    <tr>\n",
       "      <th>5</th>\n",
       "      <td>3122</td>\n",
       "      <td>34.7450</td>\n",
       "      <td>-104.0258</td>\n",
       "      <td>147.2</td>\n",
       "      <td>-587.0</td>\n",
       "      <td>-99</td>\n",
       "      <td>-9999</td>\n",
       "      <td>220.0</td>\n",
       "      <td>105.0</td>\n",
       "      <td>82.0</td>\n",
       "      <td>-999.9</td>\n",
       "      <td>-999.9</td>\n",
       "      <td>-999.9</td>\n",
       "      <td>5125.0</td>\n",
       "      <td>287.0</td>\n",
       "      <td>17.7</td>\n",
       "      <td>630.9</td>\n",
       "    </tr>\n",
       "    <tr>\n",
       "      <th>6</th>\n",
       "      <td>3123</td>\n",
       "      <td>34.7456</td>\n",
       "      <td>-104.0251</td>\n",
       "      <td>143.6</td>\n",
       "      <td>-587.0</td>\n",
       "      <td>-99</td>\n",
       "      <td>-9999</td>\n",
       "      <td>265.0</td>\n",
       "      <td>116.0</td>\n",
       "      <td>52.0</td>\n",
       "      <td>-999.9</td>\n",
       "      <td>-999.9</td>\n",
       "      <td>-999.9</td>\n",
       "      <td>5350.0</td>\n",
       "      <td>285.0</td>\n",
       "      <td>17.7</td>\n",
       "      <td>633.5</td>\n",
       "    </tr>\n",
       "    <tr>\n",
       "      <th>7</th>\n",
       "      <td>3124</td>\n",
       "      <td>34.7460</td>\n",
       "      <td>-104.0243</td>\n",
       "      <td>141.4</td>\n",
       "      <td>-585.0</td>\n",
       "      <td>-99</td>\n",
       "      <td>-9999</td>\n",
       "      <td>232.0</td>\n",
       "      <td>92.0</td>\n",
       "      <td>70.0</td>\n",
       "      <td>-999.9</td>\n",
       "      <td>-999.9</td>\n",
       "      <td>-999.9</td>\n",
       "      <td>5508.0</td>\n",
       "      <td>283.0</td>\n",
       "      <td>17.7</td>\n",
       "      <td>634.7</td>\n",
       "    </tr>\n",
       "    <tr>\n",
       "      <th>8</th>\n",
       "      <td>2664</td>\n",
       "      <td>34.2108</td>\n",
       "      <td>-104.0242</td>\n",
       "      <td>181.1</td>\n",
       "      <td>-135.0</td>\n",
       "      <td>-99</td>\n",
       "      <td>-9999</td>\n",
       "      <td>102.0</td>\n",
       "      <td>86.0</td>\n",
       "      <td>39.0</td>\n",
       "      <td>-999.9</td>\n",
       "      <td>-999.9</td>\n",
       "      <td>-999.9</td>\n",
       "      <td>3751.0</td>\n",
       "      <td>252.0</td>\n",
       "      <td>21.9</td>\n",
       "      <td>641.4</td>\n",
       "    </tr>\n",
       "    <tr>\n",
       "      <th>9</th>\n",
       "      <td>3125</td>\n",
       "      <td>34.7461</td>\n",
       "      <td>-104.0235</td>\n",
       "      <td>142.3</td>\n",
       "      <td>-587.0</td>\n",
       "      <td>-99</td>\n",
       "      <td>-9999</td>\n",
       "      <td>228.0</td>\n",
       "      <td>110.0</td>\n",
       "      <td>59.0</td>\n",
       "      <td>-999.9</td>\n",
       "      <td>-999.9</td>\n",
       "      <td>-999.9</td>\n",
       "      <td>5626.0</td>\n",
       "      <td>284.0</td>\n",
       "      <td>17.7</td>\n",
       "      <td>628.7</td>\n",
       "    </tr>\n",
       "  </tbody>\n",
       "</table>\n",
       "</div>"
      ],
      "text/plain": [
       "    fid  latitude  longitude  radalt  resmag  geology  qual  app_K  app_U  \\\n",
       "0  3117   34.7439  -104.0281   147.2  -587.0      -99 -9999  173.0  130.0   \n",
       "1  3118   34.7439  -104.0281   147.2  -587.0      -99 -9999  173.0  130.0   \n",
       "2  3119   34.7439  -104.0281   147.2  -587.0      -99 -9999  173.0  130.0   \n",
       "3  3120   34.7444  -104.0274   148.7  -589.0      -99 -9999  225.0   65.0   \n",
       "4  3121   34.7449  -104.0266   149.7  -589.0      -99 -9999  191.0  160.0   \n",
       "5  3122   34.7450  -104.0258   147.2  -587.0      -99 -9999  220.0  105.0   \n",
       "6  3123   34.7456  -104.0251   143.6  -587.0      -99 -9999  265.0  116.0   \n",
       "7  3124   34.7460  -104.0243   141.4  -585.0      -99 -9999  232.0   92.0   \n",
       "8  2664   34.2108  -104.0242   181.1  -135.0      -99 -9999  102.0   86.0   \n",
       "9  3125   34.7461  -104.0235   142.3  -587.0      -99 -9999  228.0  110.0   \n",
       "\n",
       "   app_Th  U_Th_ratio  U_K_ratio  Th_K_ratio  total_count  atmos_BI214  \\\n",
       "0    45.0      -999.9     -999.9      -999.9       5021.0        287.0   \n",
       "1    45.0      -999.9     -999.9      -999.9       5021.0        287.0   \n",
       "2    45.0      -999.9     -999.9      -999.9       5021.0        287.0   \n",
       "3    67.0      -999.9     -999.9      -999.9       5137.0        287.0   \n",
       "4    56.0      -999.9     -999.9      -999.9       5093.0        288.0   \n",
       "5    82.0      -999.9     -999.9      -999.9       5125.0        287.0   \n",
       "6    52.0      -999.9     -999.9      -999.9       5350.0        285.0   \n",
       "7    70.0      -999.9     -999.9      -999.9       5508.0        283.0   \n",
       "8    39.0      -999.9     -999.9      -999.9       3751.0        252.0   \n",
       "9    59.0      -999.9     -999.9      -999.9       5626.0        284.0   \n",
       "\n",
       "   air_temp  air_press  \n",
       "0      17.7      630.9  \n",
       "1      17.7      630.9  \n",
       "2      17.7      630.9  \n",
       "3      17.7      630.9  \n",
       "4      17.7      628.7  \n",
       "5      17.7      630.9  \n",
       "6      17.7      633.5  \n",
       "7      17.7      634.7  \n",
       "8      21.9      641.4  \n",
       "9      17.7      628.7  "
      ]
     },
     "execution_count": 103,
     "metadata": {},
     "output_type": "execute_result"
    }
   ],
   "source": [
    "rad_DataFrame.head(10)"
   ]
  },
  {
   "cell_type": "markdown",
   "metadata": {},
   "source": [
    "#### Radiometric DataFrame Labels (70651 rows × 17 columns)\n",
    "\n",
    "    0: fiducial number (integer)\n",
    "    1: latitude (decimal degrees)\n",
    "    2: longitude (decimal degrees)\n",
    "    3: radar altimeter reading above ground (meters)\n",
    "    4: residual magnetic value (nT)\n",
    "    5: surficial geology beneath flight line (coded)\n",
    "    6: quality flags of the radiometrics (integer)\n",
    "    7: apparent Potassium as Potassium 40 (percent potassium)\n",
    "    8: apparent Uranium as Bismuth 214 (parts per million equivalent uranium)\n",
    "    9: apparent Thorium as Thallium 208 (parts per million equivalent thorium)\n",
    "    10: ratio of Uranium and Thorium\n",
    "    11: ratio of Uranium and Potassium\n",
    "    12: ratio of Thorium and Potassium\n",
    "    13: total count of radioactivity (counts/second)\n",
    "    14: atmospheric Uranium as Bi214 (counts/second)\n",
    "    15: air temperature (degrees Celsius)\n",
    "    16: air pressure (mmHg)"
   ]
  },
  {
   "cell_type": "markdown",
   "metadata": {},
   "source": [
    "Cell creates a scatter plot to visualize the total counts of radioactivity (measured in counts/second) gathered during each individual reading"
   ]
  },
  {
   "cell_type": "code",
   "execution_count": 104,
   "metadata": {},
   "outputs": [
    {
     "data": {
      "image/png": "[encoded data removed]",
      "text/plain": [
       "<Figure size 432x288 with 1 Axes>"
      ]
     },
     "metadata": {
      "needs_background": "light"
     },
     "output_type": "display_data"
    }
   ],
   "source": [
    "rad_count_column = rad_DataFrame.loc[:, \"total_count\"]\n",
    "# radioactivity count numpy array\n",
    "rad_count = rad_count_column.values\n",
    "\n",
    "# plots counts of radioactivty detected in counts/second\n",
    "plt.scatter(x=range(len(rad_count)), y=rad_count, marker=\",\")\n",
    "plt.xlabel(\"Data Sample Index\") # x-axis label\n",
    "plt.ylabel(\"Total Counts of Radioactivity\") # y-axis label\n",
    "plt.show()\n"
   ]
  },
  {
   "cell_type": "markdown",
   "metadata": {},
   "source": [
    "Cell creates a scatter plot to visualize the apparent percentages of Potassium 40 recorded during each reading"
   ]
  },
  {
   "cell_type": "code",
   "execution_count": 105,
   "metadata": {},
   "outputs": [
    {
     "data": {
      "image/png": "[encoded data removed]",
      "text/plain": [
       "<Figure size 432x288 with 1 Axes>"
      ]
     },
     "metadata": {
      "needs_background": "light"
     },
     "output_type": "display_data"
    }
   ],
   "source": [
    "K_count_column = rad_DataFrame.loc[:, \"app_K\"]\n",
    "# percentages of potassium numpy array\n",
    "K_count = K_count_column.values\n",
    "\n",
    "# plots apparent percentages of Potassium 40 at each reading\n",
    "plt.scatter(x=range(len(K_count)), y=K_count, marker=\",\")\n",
    "plt.xlabel(\"Data Sample Index\") # x-axis label\n",
    "plt.ylabel(\"Percentage of Potassium 40\") # y-axis label\n",
    "plt.show()"
   ]
  },
  {
   "cell_type": "markdown",
   "metadata": {},
   "source": [
    "Percentages exceed 100 for some reason?"
   ]
  },
  {
   "cell_type": "markdown",
   "metadata": {},
   "source": [
    "Cell creates a scatter plot to visualize the apparent amount of Uranium (measured in parts/million) seen during each reading. The readings actually record the radioactive isotope Bismuth 214 instead of Uranium directly, because this isotope is used to estimate the concentrations of Uranium. "
   ]
  },
  {
   "cell_type": "code",
   "execution_count": 106,
   "metadata": {},
   "outputs": [
    {
     "data": {
      "image/png": "[encoded data removed]",
      "text/plain": [
       "<Figure size 432x288 with 1 Axes>"
      ]
     },
     "metadata": {
      "needs_background": "light"
     },
     "output_type": "display_data"
    }
   ],
   "source": [
    "U_count_column = rad_DataFrame.loc[:, \"app_U\"]\n",
    "# Bismuth 214 count numpy array\n",
    "U_count = U_count_column.values\n",
    "\n",
    "# plots apparent concentrations of Uranium as Bismuth 214\n",
    "plt.scatter(x=range(len(U_count)), y=U_count, marker=\",\")\n",
    "plt.xlabel(\"Data Sample Index\") # x-axis label\n",
    "plt.ylabel(\"Apparent Uranium\") # y-axis label\n",
    "plt.show()"
   ]
  },
  {
   "cell_type": "markdown",
   "metadata": {},
   "source": [
    "Cell creates a scatter plot to visualize the apparent amount of Thorium (measured in parts/million) seen during each reading. In this data, the element Thorium is measured by estimating its concentation using the isotope Thallium 208."
   ]
  },
  {
   "cell_type": "code",
   "execution_count": 107,
   "metadata": {},
   "outputs": [
    {
     "data": {
      "image/png": "[encoded data removed]",
      "text/plain": [
       "<Figure size 432x288 with 1 Axes>"
      ]
     },
     "metadata": {
      "needs_background": "light"
     },
     "output_type": "display_data"
    }
   ],
   "source": [
    "Th_count_column = rad_DataFrame.loc[:, \"app_Th\"]\n",
    "# Thallium 208 count numpy array\n",
    "Th_count = Th_count_column.values\n",
    "\n",
    "# plots apparent concentrations of Thorium as Thallium 208\n",
    "plt.scatter(x=range(len(Th_count)), y=Th_count, marker=\",\")\n",
    "plt.xlabel(\"Data Sample Index\") # x-axis label\n",
    "plt.ylabel(\"Apparent Thorium\") # y-axis label\n",
    "plt.show()"
   ]
  },
  {
   "cell_type": "markdown",
   "metadata": {},
   "source": [
    "#### Clustering\n",
    "\n",
    "New DataFrame holds the feature data that will be used for clustering\n",
    "\n",
    "Adapted code from \"https://towardsdatascience.com/machine-learning-algorithms-part-12-hierarchical-agglomerative-clustering-example-in-python-1e18e0075019\""
   ]
  },
  {
   "cell_type": "code",
   "execution_count": 108,
   "metadata": {},
   "outputs": [],
   "source": [
    "# Organizes data with chosen features for clustering\n",
    "resmag_data_column = mag_DataFrame.loc[:, [\"resmag\"]]\n",
    "rad_count_column = rad_DataFrame.loc[range(len(resmag_data_column)), \"total_count\"]\n",
    "\n",
    "clustering_DataFrame = pd.concat([resmag_data_column, rad_count_column], axis=1)\n"
   ]
  },
  {
   "cell_type": "code",
   "execution_count": 109,
   "metadata": {},
   "outputs": [
    {
     "data": {
      "text/html": [
       "<div>\n",
       "<style scoped>\n",
       "    .dataframe tbody tr th:only-of-type {\n",
       "        vertical-align: middle;\n",
       "    }\n",
       "\n",
       "    .dataframe tbody tr th {\n",
       "        vertical-align: top;\n",
       "    }\n",
       "\n",
       "    .dataframe thead th {\n",
       "        text-align: right;\n",
       "    }\n",
       "</style>\n",
       "<table border=\"1\" class=\"dataframe\">\n",
       "  <thead>\n",
       "    <tr style=\"text-align: right;\">\n",
       "      <th></th>\n",
       "      <th>resmag</th>\n",
       "      <th>total_count</th>\n",
       "    </tr>\n",
       "  </thead>\n",
       "  <tbody>\n",
       "    <tr>\n",
       "      <th>0</th>\n",
       "      <td>-587.9</td>\n",
       "      <td>5021.0</td>\n",
       "    </tr>\n",
       "    <tr>\n",
       "      <th>1</th>\n",
       "      <td>-587.9</td>\n",
       "      <td>5021.0</td>\n",
       "    </tr>\n",
       "    <tr>\n",
       "      <th>2</th>\n",
       "      <td>-587.9</td>\n",
       "      <td>5021.0</td>\n",
       "    </tr>\n",
       "    <tr>\n",
       "      <th>3</th>\n",
       "      <td>-589.7</td>\n",
       "      <td>5137.0</td>\n",
       "    </tr>\n",
       "    <tr>\n",
       "      <th>4</th>\n",
       "      <td>-589.6</td>\n",
       "      <td>5093.0</td>\n",
       "    </tr>\n",
       "    <tr>\n",
       "      <th>5</th>\n",
       "      <td>-587.7</td>\n",
       "      <td>5125.0</td>\n",
       "    </tr>\n",
       "    <tr>\n",
       "      <th>6</th>\n",
       "      <td>-587.6</td>\n",
       "      <td>5350.0</td>\n",
       "    </tr>\n",
       "    <tr>\n",
       "      <th>7</th>\n",
       "      <td>-585.4</td>\n",
       "      <td>5508.0</td>\n",
       "    </tr>\n",
       "    <tr>\n",
       "      <th>8</th>\n",
       "      <td>-135.7</td>\n",
       "      <td>3751.0</td>\n",
       "    </tr>\n",
       "    <tr>\n",
       "      <th>9</th>\n",
       "      <td>-587.1</td>\n",
       "      <td>5626.0</td>\n",
       "    </tr>\n",
       "  </tbody>\n",
       "</table>\n",
       "</div>"
      ],
      "text/plain": [
       "   resmag  total_count\n",
       "0  -587.9       5021.0\n",
       "1  -587.9       5021.0\n",
       "2  -587.9       5021.0\n",
       "3  -589.7       5137.0\n",
       "4  -589.6       5093.0\n",
       "5  -587.7       5125.0\n",
       "6  -587.6       5350.0\n",
       "7  -585.4       5508.0\n",
       "8  -135.7       3751.0\n",
       "9  -587.1       5626.0"
      ]
     },
     "execution_count": 109,
     "metadata": {},
     "output_type": "execute_result"
    }
   ],
   "source": [
    "clustering_DataFrame.head(10)"
   ]
  },
  {
   "cell_type": "code",
   "execution_count": 110,
   "metadata": {},
   "outputs": [],
   "source": [
    "# Function used to normalize input data to values between 0 and 1\n",
    "def normalize(input_data):\n",
    "    scaler = MinMaxScaler()\n",
    "    scaler.fit(input_data)\n",
    "    return scaler.transform(input_data)"
   ]
  },
  {
   "cell_type": "code",
   "execution_count": 111,
   "metadata": {},
   "outputs": [
    {
     "name": "stdout",
     "output_type": "stream",
     "text": [
      "[[0.20673545 0.61335125]\n",
      " [0.20673545 0.61335125]\n",
      " [0.20673545 0.61335125]\n",
      " ...\n",
      " [0.01138797 0.88664875]\n",
      " [0.16828888 0.82325269]\n",
      " [0.16984621 0.91106631]]\n"
     ]
    }
   ],
   "source": [
    "# turns DataFrame into an array of raw numerical values\n",
    "# full dataset takes too long to cluster so only used first 40,000 index values\n",
    "agglomerative_data_array = clustering_DataFrame.head(40000).values\n",
    "\n",
    "# normalizes data\n",
    "agglomerative_data_array = normalize(agglomerative_data_array)\n",
    "print(agglomerative_data_array)"
   ]
  },
  {
   "cell_type": "code",
   "execution_count": 112,
   "metadata": {},
   "outputs": [
    {
     "data": {
      "text/plain": [
       "AgglomerativeClustering(n_clusters=3)"
      ]
     },
     "execution_count": 112,
     "metadata": {},
     "output_type": "execute_result"
    }
   ],
   "source": [
    "# initializes model and fits model with radiometric and magnetic data\n",
    "\n",
    "# chose 3 clusters, as there are 3 different elements detected in the dataset (Potassium, Uranium, and Thorium)\n",
    "clustering_model = AgglomerativeClustering(n_clusters=3, affinity='euclidean', linkage='ward')\n",
    "clustering_model.fit(agglomerative_data_array)"
   ]
  },
  {
   "cell_type": "code",
   "execution_count": 113,
   "metadata": {},
   "outputs": [
    {
     "data": {
      "image/png": "[encoded data removed]",
      "text/plain": [
       "<Figure size 432x288 with 1 Axes>"
      ]
     },
     "metadata": {
      "needs_background": "light"
     },
     "output_type": "display_data"
    }
   ],
   "source": [
    "# array stores labels of the data that were assigned by the clustering algorithm\n",
    "cluster_labels = clustering_model.labels_\n",
    "\n",
    "# visualization of cluster using scatter plot\n",
    "plt.scatter(agglomerative_data_array[cluster_labels==0, 0], agglomerative_data_array[cluster_labels==0, 1], marker='o', color='red')\n",
    "plt.scatter(agglomerative_data_array[cluster_labels==1, 0], agglomerative_data_array[cluster_labels==1, 1], marker='o', color='blue')\n",
    "plt.scatter(agglomerative_data_array[cluster_labels==2, 0], agglomerative_data_array[cluster_labels==2, 1], marker='o', color='green')\n",
    "plt.xlabel(\"Residual Magnetic Value\")\n",
    "plt.ylabel(\"Total Counts of Radioactivity\")\n",
    "plt.title(\"Agglomerative\")\n",
    "plt.show()"
   ]
  },
  {
   "cell_type": "markdown",
   "metadata": {},
   "source": [
    "#### K Means Clustering\n",
    "Adapted code from: https://github.com/codebasics/py/blob/master/ML/13_kmeans/13_kmeans_tutorial.ipynb"
   ]
  },
  {
   "cell_type": "code",
   "execution_count": 114,
   "metadata": {},
   "outputs": [],
   "source": [
    "df = pd.DataFrame(clustering_DataFrame, columns = ['resmag', 'total_count']) #redefine the dataframe\n",
    "\n",
    "def elbow_graph():\n",
    "    sse = [] #elbow graph to find the ideal k value\n",
    "    k_rng = range(1,10)\n",
    "    for k in k_rng:\n",
    "        km = KMeans(n_clusters=k)\n",
    "        km.fit(df[['resmag','total_count']])\n",
    "        sse.append(km.inertia_)\n",
    "    plt.xlabel('K')\n",
    "    plt.ylabel('Sum of squared error')\n",
    "    plt.plot(k_rng, sse)\n",
    "    plt.show()\n"
   ]
  },
  {
   "cell_type": "code",
   "execution_count": 115,
   "metadata": {},
   "outputs": [
    {
     "data": {
      "image/png": "[encoded data removed]",
      "text/plain": [
       "<Figure size 432x288 with 1 Axes>"
      ]
     },
     "metadata": {
      "needs_background": "light"
     },
     "output_type": "display_data"
    }
   ],
   "source": [
    "# Displays Graph\n",
    "elbow_graph()"
   ]
  },
  {
   "cell_type": "markdown",
   "metadata": {},
   "source": [
    "Data Normalization"
   ]
  },
  {
   "cell_type": "code",
   "execution_count": 116,
   "metadata": {},
   "outputs": [],
   "source": [
    "def scale(): # scale the data from zero to one\n",
    "    scaler = MinMaxScaler()\n",
    "    scaler.fit(df[['total_count']])\n",
    "    df['total_count'] = scaler.transform(df[['total_count']])\n",
    "\n",
    "    scaler.fit(df[['resmag']])\n",
    "    df['resmag'] = scaler.transform(df[['resmag']])"
   ]
  },
  {
   "cell_type": "markdown",
   "metadata": {},
   "source": [
    "KMeans Algorithm and Visualization of Results"
   ]
  },
  {
   "cell_type": "code",
   "execution_count": 117,
   "metadata": {},
   "outputs": [],
   "source": [
    "def kmeans():\n",
    "    km = KMeans(n_clusters=3) #three clusters via elbow graph\n",
    "    pred_y = km.fit_predict(df) #assigns a cluster to each row of the dataset\n",
    "    print((pred_y))\n",
    "    df['cluster'] = pred_y  #appends the cluster predictions to the dataset\n",
    "    # print(df)\n",
    "\n",
    "    #visualize the clusters\n",
    "    km1 = df[pred_y==0]\n",
    "    km2 = df[pred_y==1]\n",
    "    km3 = df[pred_y==2]\n",
    "    plt.scatter(km1.resmag,km1['total_count'], color='red')\n",
    "    plt.scatter(km2.resmag,km2['total_count'], color='blue')\n",
    "    plt.scatter(km3.resmag,km3['total_count'], color='green')\n",
    "    plt.scatter(km.cluster_centers_[:,0],km.cluster_centers_[:,1],color='white',marker='*',label='centroid') #mark centroids\n",
    "    plt.xlabel(\"Residual Magnetic Value\")\n",
    "    plt.ylabel(\"Total Counts of Radioactivity\")\n",
    "    plt.title(\"KMeans\")\n",
    "    plt.show()"
   ]
  },
  {
   "cell_type": "code",
   "execution_count": 118,
   "metadata": {},
   "outputs": [
    {
     "name": "stdout",
     "output_type": "stream",
     "text": [
      "[1 1 1 ... 1 1 1]\n"
     ]
    },
    {
     "data": {
      "image/png": "[encoded data removed]",
      "text/plain": [
       "<Figure size 432x288 with 1 Axes>"
      ]
     },
     "metadata": {
      "needs_background": "light"
     },
     "output_type": "display_data"
    }
   ],
   "source": [
    "scale()\n",
    "kmeans()"
   ]
  },
  {
   "cell_type": "markdown",
   "metadata": {},
   "source": [
    "##### DBSCAN\n",
    "\n",
    "Used to experiment with how DBSCAN performs at clustering ours radiometric and magnetic data"
   ]
  },
  {
   "cell_type": "markdown",
   "metadata": {},
   "source": [
    "Following code cells are used to determine the optimal value of epsilon, which is an essential parameter for the DBSCAN model\n",
    "\n",
    "code adapted from: \"https://towardsdatascience.com/machine-learning-clustering-dbscan-determine-the-optimal-value-for-epsilon-eps-python-example-3100091cfbc\""
   ]
  },
  {
   "cell_type": "code",
   "execution_count": 119,
   "metadata": {},
   "outputs": [],
   "source": [
    "# Input data for DBSCAN clustering\n",
    "dbscan_data_array = clustering_DataFrame.values\n",
    "\n",
    "# Normalized input data\n",
    "dbscan_data_array = normalize(dbscan_data_array)"
   ]
  },
  {
   "cell_type": "markdown",
   "metadata": {},
   "source": [
    "Code to calculate/collect distance calculations"
   ]
  },
  {
   "cell_type": "code",
   "execution_count": 120,
   "metadata": {},
   "outputs": [],
   "source": [
    "# Used to calculate distance from each point to its nearest neighbor\n",
    "neighbors = NearestNeighbors(n_neighbors=2).fit(dbscan_data_array)\n",
    "\n",
    "# Returns arrays containing individual distances and indices of points analyzed \n",
    "kn_distances, indices = neighbors.kneighbors(dbscan_data_array)\n",
    "\n",
    "# Sorts distance calculations\n",
    "kn_distances = np.sort(kn_distances, axis=0)"
   ]
  },
  {
   "cell_type": "markdown",
   "metadata": {},
   "source": [
    "Graph of distance calculations. The value of epsilon is \"found at the point of maximum curvature\"."
   ]
  },
  {
   "cell_type": "code",
   "execution_count": 121,
   "metadata": {},
   "outputs": [
    {
     "data": {
      "image/png": "[encoded data removed]",
      "text/plain": [
       "<Figure size 432x288 with 1 Axes>"
      ]
     },
     "metadata": {
      "needs_background": "light"
     },
     "output_type": "display_data"
    }
   ],
   "source": [
    "# Graphs distance calculation results\n",
    "plt.plot(kn_distances[:,1])\n",
    "plt.xlabel(\"Index\")\n",
    "plt.ylabel(\"Epsilon Value\")\n",
    "\n",
    "plt.show()"
   ]
  },
  {
   "cell_type": "markdown",
   "metadata": {},
   "source": [
    "DBSCAN using the optimal epsilon value of 0.005 and a min_sample value of 5"
   ]
  },
  {
   "cell_type": "code",
   "execution_count": 122,
   "metadata": {},
   "outputs": [],
   "source": [
    "# optimal espilon value\n",
    "optimal_eps = 0.005\n",
    "\n",
    "# DBSCAN model and fitting\n",
    "dbscan = DBSCAN(eps=optimal_eps, min_samples=5)\n",
    "dbscan.fit(dbscan_data_array)\n",
    "\n",
    "# list of clusters and points\n",
    "dbscan_clusters = dbscan.labels_"
   ]
  },
  {
   "cell_type": "markdown",
   "metadata": {},
   "source": [
    "Graph of results and clusters"
   ]
  },
  {
   "cell_type": "code",
   "execution_count": 123,
   "metadata": {},
   "outputs": [
    {
     "data": {
      "text/plain": [
       "Text(0, 0.5, 'Total Counts of Radioactivity')"
      ]
     },
     "execution_count": 123,
     "metadata": {},
     "output_type": "execute_result"
    },
    {
     "data": {
      "image/png": "[encoded data removed]",
      "text/plain": [
       "<Figure size 432x288 with 1 Axes>"
      ]
     },
     "metadata": {
      "needs_background": "light"
     },
     "output_type": "display_data"
    }
   ],
   "source": [
    "# Graph Results\n",
    "y_pred = dbscan.fit_predict(dbscan_data_array)\n",
    "\n",
    "plt.scatter(dbscan_data_array[:,0], dbscan_data_array[:,1],c=y_pred, cmap='Paired')\n",
    "plt.title(\"DBSCAN\")\n",
    "plt.xlabel(\"Residual Magnetic Value\")\n",
    "plt.ylabel(\"Total Counts of Radioactivity\")"
   ]
  },
  {
   "cell_type": "markdown",
   "metadata": {},
   "source": [
    "#### Spatially Constrained Clustering"
   ]
  },
  {
   "cell_type": "markdown",
   "metadata": {},
   "source": [
    "Converting Pandas DataFrames to to GeoPandas DataFrames with longitude/latitude (x, y) coordinates in geometry column"
   ]
  },
  {
   "cell_type": "code",
   "execution_count": 124,
   "metadata": {},
   "outputs": [
    {
     "data": {
      "text/html": [
       "<div>\n",
       "<style scoped>\n",
       "    .dataframe tbody tr th:only-of-type {\n",
       "        vertical-align: middle;\n",
       "    }\n",
       "\n",
       "    .dataframe tbody tr th {\n",
       "        vertical-align: top;\n",
       "    }\n",
       "\n",
       "    .dataframe thead th {\n",
       "        text-align: right;\n",
       "    }\n",
       "</style>\n",
       "<table border=\"1\" class=\"dataframe\">\n",
       "  <thead>\n",
       "    <tr style=\"text-align: right;\">\n",
       "      <th></th>\n",
       "      <th>resmag</th>\n",
       "      <th>geometry</th>\n",
       "    </tr>\n",
       "  </thead>\n",
       "  <tbody>\n",
       "    <tr>\n",
       "      <th>0</th>\n",
       "      <td>-587.9</td>\n",
       "      <td>POINT (-104.02810 34.74390)</td>\n",
       "    </tr>\n",
       "    <tr>\n",
       "      <th>1</th>\n",
       "      <td>-587.9</td>\n",
       "      <td>POINT (-104.02810 34.74390)</td>\n",
       "    </tr>\n",
       "    <tr>\n",
       "      <th>2</th>\n",
       "      <td>-587.9</td>\n",
       "      <td>POINT (-104.02810 34.74390)</td>\n",
       "    </tr>\n",
       "    <tr>\n",
       "      <th>3</th>\n",
       "      <td>-589.7</td>\n",
       "      <td>POINT (-104.02740 34.74440)</td>\n",
       "    </tr>\n",
       "    <tr>\n",
       "      <th>4</th>\n",
       "      <td>-589.6</td>\n",
       "      <td>POINT (-104.02660 34.74490)</td>\n",
       "    </tr>\n",
       "  </tbody>\n",
       "</table>\n",
       "</div>"
      ],
      "text/plain": [
       "   resmag                     geometry\n",
       "0  -587.9  POINT (-104.02810 34.74390)\n",
       "1  -587.9  POINT (-104.02810 34.74390)\n",
       "2  -587.9  POINT (-104.02810 34.74390)\n",
       "3  -589.7  POINT (-104.02740 34.74440)\n",
       "4  -589.6  POINT (-104.02660 34.74490)"
      ]
     },
     "execution_count": 124,
     "metadata": {},
     "output_type": "execute_result"
    }
   ],
   "source": [
    "# Sub-DataFrames to extract features from main magnetic DataFrame\n",
    "spatial_mag_df = mag_DataFrame.loc[:, \"resmag\"]\n",
    "mag_long = mag_DataFrame.loc[:, [\"longitude\"]].values\n",
    "mag_lat = mag_DataFrame.loc[:, [\"latitude\"]].values\n",
    "\n",
    "# Creates GeoSeries to store coordinate points\n",
    "mag_points = gp.GeoSeries.from_xy(x=mag_long, y=mag_lat)\n",
    "\n",
    "# GeoPandas GeoDataFrame of resmag data\n",
    "mag_geo_df = gp.GeoDataFrame(spatial_mag_df, crs=\"EPSG:4326\", geometry=mag_points)\n",
    "\n",
    "mag_geo_df.head()\n"
   ]
  },
  {
   "cell_type": "code",
   "execution_count": 125,
   "metadata": {},
   "outputs": [
    {
     "data": {
      "text/html": [
       "<div>\n",
       "<style scoped>\n",
       "    .dataframe tbody tr th:only-of-type {\n",
       "        vertical-align: middle;\n",
       "    }\n",
       "\n",
       "    .dataframe tbody tr th {\n",
       "        vertical-align: top;\n",
       "    }\n",
       "\n",
       "    .dataframe thead th {\n",
       "        text-align: right;\n",
       "    }\n",
       "</style>\n",
       "<table border=\"1\" class=\"dataframe\">\n",
       "  <thead>\n",
       "    <tr style=\"text-align: right;\">\n",
       "      <th></th>\n",
       "      <th>total_count</th>\n",
       "      <th>geometry</th>\n",
       "    </tr>\n",
       "  </thead>\n",
       "  <tbody>\n",
       "    <tr>\n",
       "      <th>0</th>\n",
       "      <td>5021.0</td>\n",
       "      <td>POINT (-104.02810 34.74390)</td>\n",
       "    </tr>\n",
       "    <tr>\n",
       "      <th>1</th>\n",
       "      <td>5021.0</td>\n",
       "      <td>POINT (-104.02810 34.74390)</td>\n",
       "    </tr>\n",
       "    <tr>\n",
       "      <th>2</th>\n",
       "      <td>5021.0</td>\n",
       "      <td>POINT (-104.02810 34.74390)</td>\n",
       "    </tr>\n",
       "    <tr>\n",
       "      <th>3</th>\n",
       "      <td>5137.0</td>\n",
       "      <td>POINT (-104.02740 34.74440)</td>\n",
       "    </tr>\n",
       "    <tr>\n",
       "      <th>4</th>\n",
       "      <td>5093.0</td>\n",
       "      <td>POINT (-104.02660 34.74490)</td>\n",
       "    </tr>\n",
       "  </tbody>\n",
       "</table>\n",
       "</div>"
      ],
      "text/plain": [
       "   total_count                     geometry\n",
       "0       5021.0  POINT (-104.02810 34.74390)\n",
       "1       5021.0  POINT (-104.02810 34.74390)\n",
       "2       5021.0  POINT (-104.02810 34.74390)\n",
       "3       5137.0  POINT (-104.02740 34.74440)\n",
       "4       5093.0  POINT (-104.02660 34.74490)"
      ]
     },
     "execution_count": 125,
     "metadata": {},
     "output_type": "execute_result"
    }
   ],
   "source": [
    "# Sub-DataFrames to extract features from main radiometric DataFrame\n",
    "spatial_rad_df = rad_DataFrame.loc[:, \"total_count\"]\n",
    "rad_long = rad_DataFrame.loc[:, [\"longitude\"]].values\n",
    "rad_lat = rad_DataFrame.loc[:, [\"latitude\"]].values\n",
    "\n",
    "# Creates GeoSeries to store coordinate points\n",
    "rad_points = gp.GeoSeries.from_xy(x=rad_long, y=rad_lat)\n",
    "\n",
    "# GeoPandas GeoDataFrame of radioactivity count data\n",
    "rad_geo_df = gp.GeoDataFrame(spatial_rad_df, crs=\"EPSG:4326\", geometry=rad_points)\n",
    "\n",
    "rad_geo_df.head()"
   ]
  },
  {
   "cell_type": "code",
   "execution_count": 126,
   "metadata": {},
   "outputs": [
    {
     "data": {
      "text/plain": [
       "<AxesSubplot:>"
      ]
     },
     "execution_count": 126,
     "metadata": {},
     "output_type": "execute_result"
    },
    {
     "data": {
      "image/png": "[encoded data removed]",
      "text/plain": [
       "<Figure size 432x288 with 1 Axes>"
      ]
     },
     "metadata": {
      "needs_background": "light"
     },
     "output_type": "display_data"
    }
   ],
   "source": [
    "rad_geo_df.plot()"
   ]
  }
 ],
 "metadata": {
  "interpreter": {
   "hash": "d7b7c602f601cd784572781f5d2d50974e7b6a9d052e204afc738f785f01458d"
  },
  "kernelspec": {
   "display_name": "Python 3.9.7 64-bit ('FRI_PROJECT': conda)",
   "name": "python3"
  },
  "language_info": {
   "codemirror_mode": {
    "name": "ipython",
    "version": 3
   },
   "file_extension": ".py",
   "mimetype": "text/x-python",
   "name": "python",
   "nbconvert_exporter": "python",
   "pygments_lexer": "ipython3",
   "version": "3.9.7"
  }
 },
 "nbformat": 4,
 "nbformat_minor": 4
}
