{
 "cells": [
  {
   "cell_type": "markdown",
   "metadata": {},
   "source": [
    "#### Goal\n",
    "\n",
    "Using Machine Learning algorithms to accurately predict the location of Uranium deposits using\n",
    "surface level-data, such as magnetic and radiometric values\n",
    "\n",
    "\n",
    "#### Project Description\n",
    "\n",
    "Our main dataset for training/testing is from the United States Geological Survey and was gathered in 1976. In this survey, data was gathered by aircraft that flew over the border area of New Mexico and Texas, and recorded magnetic-field and radiometric values and locations. Contained in this dataset are latitude, longitude, altitude, and magnetic-field values. Additionally, there are geologic symbols detailing the area in the data sets. The aircrafts tracked the locations of Uranium, Thorium, and Potassium, but we will be focusing on Uranium in this project. We plan to group the different elements using Agglomerative Hierarchical Clustering. "
   ]
  },
  {
   "cell_type": "markdown",
   "metadata": {},
   "source": [
    "This section of imports displays the various packages used in our project"
   ]
  },
  {
   "cell_type": "code",
   "execution_count": 31,
   "metadata": {},
   "outputs": [],
   "source": [
    "import pandas as pd # used for DataFrames\n",
    "import numpy as np # used for numpy arrays\n",
    "import matplotlib.pyplot as plt # used to graphically visualize data points\n",
    "from sklearn.cluster import AgglomerativeClustering # for machine learning algorithms\n",
    "import scipy.cluster.hierarchy as sch # for dendrograms"
   ]
  },
  {
   "cell_type": "markdown",
   "metadata": {},
   "source": [
    "Function to organize .xyz file data into python list with correct data types of features.\n",
    "Lists will be used as input data in Pandas DataFrame"
   ]
  },
  {
   "cell_type": "code",
   "execution_count": 32,
   "metadata": {},
   "outputs": [],
   "source": [
    "def xyz_to_list(xyz_file):\n",
    "    data_list = []\n",
    "    for row in xyz_file:\n",
    "        # splits rows of .xyz data to list of strings\n",
    "        row_array = row.split()\n",
    "        # changes string values in list to correct data type\n",
    "        for i in range(len(row_array)):\n",
    "            if row_array[i].find(\".\") != -1:\n",
    "                row_array[i] = float(row_array[i])\n",
    "            elif row_array[i].isdigit() or row_array[i][1:].isdigit():\n",
    "                row_array[i] = int(row_array[i])\n",
    "        # adds list of row data to the main list\n",
    "        data_list.append(row_array)\n",
    "    # returns organized list of data\n",
    "    return data_list"
   ]
  },
  {
   "cell_type": "code",
   "execution_count": 33,
   "metadata": {},
   "outputs": [
    {
     "name": "stdout",
     "output_type": "stream",
     "text": [
      "[16, 211, 115600, 103, 1976, 34.696, -101.9878, 139.9, 53303.7, -176.9, -9999.9, 'TO', 107.0]\n"
     ]
    }
   ],
   "source": [
    "# Magnetic .xyz file to python list\n",
    "clovis_mag = \"CLOVIS/clovis_mag.xyz\" # magnetic data file path\n",
    "xyz_mag = open(clovis_mag, \"r\") # create xyz file object\n",
    "mag_list = xyz_to_list(xyz_mag) # magnetic data formatted in python list\n",
    "\n",
    "print(mag_list[0])"
   ]
  },
  {
   "cell_type": "markdown",
   "metadata": {},
   "source": [
    "Cell creates DataFrame for the magnetic data and removes the features that we decided were unnecessary"
   ]
  },
  {
   "cell_type": "code",
   "execution_count": 34,
   "metadata": {},
   "outputs": [],
   "source": [
    "# DataFrame for magnetic data\n",
    "mag_DataFrame = pd.DataFrame(mag_list, columns=[\"line\", \"fid\", \"time\", \"day\", \"year\", \"latitude\", \n",
    "                                    \"longitude\", \"radalt\", \"totmag\", \"resmag\", \"diurnal\", \"geology\", \"resmagCM4\"])\n",
    "\n",
    "# Option forces all columns of data to be printed in the DataFrame\n",
    "pd.set_option('display.max_columns', None)\n",
    "\n",
    "# uses drop() function to remove line, time, day, and year features from the magnetic dataset\n",
    "mag_DataFrame = mag_DataFrame.drop(columns=[\"line\", \"time\", \"day\", \"year\"])"
   ]
  },
  {
   "cell_type": "code",
   "execution_count": 35,
   "metadata": {},
   "outputs": [
    {
     "data": {
      "text/html": [
       "<div>\n",
       "<style scoped>\n",
       "    .dataframe tbody tr th:only-of-type {\n",
       "        vertical-align: middle;\n",
       "    }\n",
       "\n",
       "    .dataframe tbody tr th {\n",
       "        vertical-align: top;\n",
       "    }\n",
       "\n",
       "    .dataframe thead th {\n",
       "        text-align: right;\n",
       "    }\n",
       "</style>\n",
       "<table border=\"1\" class=\"dataframe\">\n",
       "  <thead>\n",
       "    <tr style=\"text-align: right;\">\n",
       "      <th></th>\n",
       "      <th>fid</th>\n",
       "      <th>latitude</th>\n",
       "      <th>longitude</th>\n",
       "      <th>radalt</th>\n",
       "      <th>totmag</th>\n",
       "      <th>resmag</th>\n",
       "      <th>diurnal</th>\n",
       "      <th>geology</th>\n",
       "      <th>resmagCM4</th>\n",
       "    </tr>\n",
       "  </thead>\n",
       "  <tbody>\n",
       "    <tr>\n",
       "      <th>0</th>\n",
       "      <td>211</td>\n",
       "      <td>34.6960</td>\n",
       "      <td>-101.9878</td>\n",
       "      <td>139.9</td>\n",
       "      <td>53303.7</td>\n",
       "      <td>-176.9</td>\n",
       "      <td>-9999.9</td>\n",
       "      <td>TO</td>\n",
       "      <td>107.0</td>\n",
       "    </tr>\n",
       "    <tr>\n",
       "      <th>1</th>\n",
       "      <td>212</td>\n",
       "      <td>34.6960</td>\n",
       "      <td>-101.9878</td>\n",
       "      <td>139.9</td>\n",
       "      <td>53303.7</td>\n",
       "      <td>-176.9</td>\n",
       "      <td>-9999.9</td>\n",
       "      <td>TO</td>\n",
       "      <td>107.0</td>\n",
       "    </tr>\n",
       "    <tr>\n",
       "      <th>2</th>\n",
       "      <td>213</td>\n",
       "      <td>34.6968</td>\n",
       "      <td>-101.9883</td>\n",
       "      <td>137.8</td>\n",
       "      <td>53304.4</td>\n",
       "      <td>-176.8</td>\n",
       "      <td>-9999.9</td>\n",
       "      <td>TO</td>\n",
       "      <td>107.2</td>\n",
       "    </tr>\n",
       "    <tr>\n",
       "      <th>3</th>\n",
       "      <td>214</td>\n",
       "      <td>34.6974</td>\n",
       "      <td>-101.9888</td>\n",
       "      <td>136.2</td>\n",
       "      <td>53306.5</td>\n",
       "      <td>-175.0</td>\n",
       "      <td>-9999.9</td>\n",
       "      <td>TO</td>\n",
       "      <td>109.0</td>\n",
       "    </tr>\n",
       "    <tr>\n",
       "      <th>4</th>\n",
       "      <td>215</td>\n",
       "      <td>34.6981</td>\n",
       "      <td>-101.9893</td>\n",
       "      <td>135.3</td>\n",
       "      <td>53304.8</td>\n",
       "      <td>-177.1</td>\n",
       "      <td>-9999.9</td>\n",
       "      <td>TO</td>\n",
       "      <td>106.8</td>\n",
       "    </tr>\n",
       "    <tr>\n",
       "      <th>5</th>\n",
       "      <td>216</td>\n",
       "      <td>34.6987</td>\n",
       "      <td>-101.9898</td>\n",
       "      <td>135.0</td>\n",
       "      <td>53305.2</td>\n",
       "      <td>-177.0</td>\n",
       "      <td>-9999.9</td>\n",
       "      <td>TO</td>\n",
       "      <td>107.0</td>\n",
       "    </tr>\n",
       "    <tr>\n",
       "      <th>6</th>\n",
       "      <td>217</td>\n",
       "      <td>34.6992</td>\n",
       "      <td>-101.9903</td>\n",
       "      <td>134.4</td>\n",
       "      <td>53306.6</td>\n",
       "      <td>-175.9</td>\n",
       "      <td>-9999.9</td>\n",
       "      <td>TO</td>\n",
       "      <td>108.1</td>\n",
       "    </tr>\n",
       "    <tr>\n",
       "      <th>7</th>\n",
       "      <td>218</td>\n",
       "      <td>34.6997</td>\n",
       "      <td>-101.9908</td>\n",
       "      <td>136.9</td>\n",
       "      <td>53304.8</td>\n",
       "      <td>-177.8</td>\n",
       "      <td>-9999.9</td>\n",
       "      <td>TO</td>\n",
       "      <td>106.2</td>\n",
       "    </tr>\n",
       "    <tr>\n",
       "      <th>8</th>\n",
       "      <td>219</td>\n",
       "      <td>34.7004</td>\n",
       "      <td>-101.9913</td>\n",
       "      <td>138.7</td>\n",
       "      <td>53306.7</td>\n",
       "      <td>-176.2</td>\n",
       "      <td>-9999.9</td>\n",
       "      <td>TO</td>\n",
       "      <td>107.7</td>\n",
       "    </tr>\n",
       "    <tr>\n",
       "      <th>9</th>\n",
       "      <td>220</td>\n",
       "      <td>34.7012</td>\n",
       "      <td>-101.9918</td>\n",
       "      <td>138.7</td>\n",
       "      <td>53306.1</td>\n",
       "      <td>-177.3</td>\n",
       "      <td>-9999.9</td>\n",
       "      <td>TO</td>\n",
       "      <td>106.8</td>\n",
       "    </tr>\n",
       "  </tbody>\n",
       "</table>\n",
       "</div>"
      ],
      "text/plain": [
       "   fid  latitude  longitude  radalt   totmag  resmag  diurnal geology  \\\n",
       "0  211   34.6960  -101.9878   139.9  53303.7  -176.9  -9999.9      TO   \n",
       "1  212   34.6960  -101.9878   139.9  53303.7  -176.9  -9999.9      TO   \n",
       "2  213   34.6968  -101.9883   137.8  53304.4  -176.8  -9999.9      TO   \n",
       "3  214   34.6974  -101.9888   136.2  53306.5  -175.0  -9999.9      TO   \n",
       "4  215   34.6981  -101.9893   135.3  53304.8  -177.1  -9999.9      TO   \n",
       "5  216   34.6987  -101.9898   135.0  53305.2  -177.0  -9999.9      TO   \n",
       "6  217   34.6992  -101.9903   134.4  53306.6  -175.9  -9999.9      TO   \n",
       "7  218   34.6997  -101.9908   136.9  53304.8  -177.8  -9999.9      TO   \n",
       "8  219   34.7004  -101.9913   138.7  53306.7  -176.2  -9999.9      TO   \n",
       "9  220   34.7012  -101.9918   138.7  53306.1  -177.3  -9999.9      TO   \n",
       "\n",
       "   resmagCM4  \n",
       "0      107.0  \n",
       "1      107.0  \n",
       "2      107.2  \n",
       "3      109.0  \n",
       "4      106.8  \n",
       "5      107.0  \n",
       "6      108.1  \n",
       "7      106.2  \n",
       "8      107.7  \n",
       "9      106.8  "
      ]
     },
     "execution_count": 35,
     "metadata": {},
     "output_type": "execute_result"
    }
   ],
   "source": [
    "# First 10 rows of mag data\n",
    "mag_DataFrame.head(10)"
   ]
  },
  {
   "cell_type": "markdown",
   "metadata": {},
   "source": [
    "#### Magnetic DataFrame Labels (70228 rows × 9 columns)\n",
    "\n",
    "\n",
    "    0: fiducial number (integer)\n",
    "    1: latitude (decimal degrees)\n",
    "    2: longitude (decimal degrees)\n",
    "    3: radar altimeter reading above ground (meters)\n",
    "    4: corrected magnetic value (nT)\n",
    "    5: residual magnetic value (nT)\n",
    "    6: ground magnetometer value (nT)\n",
    "    7: surficial geology beneath flight line (coded)\n",
    "    8: resmag calculated using the comprehensive model (nT)"
   ]
  },
  {
   "cell_type": "code",
   "execution_count": 36,
   "metadata": {},
   "outputs": [
    {
     "name": "stdout",
     "output_type": "stream",
     "text": [
      "[1, 1, 171900, 102, 1976, 34.0081, -104.0169, 141.1, -266.0, -99, -9999, 140.0, 9.0, 27.0, -999.9, -999.9, -999.9, 3614.0, 601.0, 20.8, 651.3]\n"
     ]
    }
   ],
   "source": [
    "# Radiometric xyz file to python lists\n",
    "clovis_rad = \"CLOVIS/clovis_rad.xyz\" # radiometric data file path\n",
    "xyz_rad = open(clovis_rad, \"r\") # create xyz file object\n",
    "rad_list = xyz_to_list(xyz_rad) # radiometric data formatted in python list\n",
    "\n",
    "print(rad_list[0])"
   ]
  },
  {
   "cell_type": "markdown",
   "metadata": {},
   "source": [
    "Cell creates DataFrame for the radiometric data and removes the features that we decided were unnecessary"
   ]
  },
  {
   "cell_type": "code",
   "execution_count": 37,
   "metadata": {},
   "outputs": [],
   "source": [
    "# DataFrame for radiometric data\n",
    "rad_DataFrame = pd.DataFrame(rad_list, columns = [\"line\", \"fid\", \"time\", \"day\", \"year\", \"latitude\", \"longitude\", \"radalt\", \"resmag\", \"geology\", \"qual\", \n",
    "                            \"app_K\", \"app_U\", \"app_Th\", \"U_Th_ratio\", \"U_K_ratio\", \"Th_K_ratio\", \"total_count\", \"atmos_BI214\", \"air_temp\", \"air_press\"])\n",
    "\n",
    "\n",
    "# uses drop() function to remove line, time, day, and year features from the radiometric dataset\n",
    "rad_DataFrame = rad_DataFrame.drop(columns=[\"line\", \"time\", \"day\", \"year\"])"
   ]
  },
  {
   "cell_type": "code",
   "execution_count": 38,
   "metadata": {},
   "outputs": [
    {
     "data": {
      "text/html": [
       "<div>\n",
       "<style scoped>\n",
       "    .dataframe tbody tr th:only-of-type {\n",
       "        vertical-align: middle;\n",
       "    }\n",
       "\n",
       "    .dataframe tbody tr th {\n",
       "        vertical-align: top;\n",
       "    }\n",
       "\n",
       "    .dataframe thead th {\n",
       "        text-align: right;\n",
       "    }\n",
       "</style>\n",
       "<table border=\"1\" class=\"dataframe\">\n",
       "  <thead>\n",
       "    <tr style=\"text-align: right;\">\n",
       "      <th></th>\n",
       "      <th>fid</th>\n",
       "      <th>latitude</th>\n",
       "      <th>longitude</th>\n",
       "      <th>radalt</th>\n",
       "      <th>resmag</th>\n",
       "      <th>geology</th>\n",
       "      <th>qual</th>\n",
       "      <th>app_K</th>\n",
       "      <th>app_U</th>\n",
       "      <th>app_Th</th>\n",
       "      <th>U_Th_ratio</th>\n",
       "      <th>U_K_ratio</th>\n",
       "      <th>Th_K_ratio</th>\n",
       "      <th>total_count</th>\n",
       "      <th>atmos_BI214</th>\n",
       "      <th>air_temp</th>\n",
       "      <th>air_press</th>\n",
       "    </tr>\n",
       "  </thead>\n",
       "  <tbody>\n",
       "    <tr>\n",
       "      <th>0</th>\n",
       "      <td>1</td>\n",
       "      <td>34.0081</td>\n",
       "      <td>-104.0169</td>\n",
       "      <td>141.1</td>\n",
       "      <td>-266.0</td>\n",
       "      <td>-99</td>\n",
       "      <td>-9999</td>\n",
       "      <td>140.0</td>\n",
       "      <td>9.0</td>\n",
       "      <td>27.0</td>\n",
       "      <td>-999.9</td>\n",
       "      <td>-999.9</td>\n",
       "      <td>-999.9</td>\n",
       "      <td>3614.0</td>\n",
       "      <td>601.0</td>\n",
       "      <td>20.8</td>\n",
       "      <td>651.3</td>\n",
       "    </tr>\n",
       "    <tr>\n",
       "      <th>1</th>\n",
       "      <td>2</td>\n",
       "      <td>34.0081</td>\n",
       "      <td>-104.0169</td>\n",
       "      <td>141.1</td>\n",
       "      <td>-266.0</td>\n",
       "      <td>-99</td>\n",
       "      <td>-9999</td>\n",
       "      <td>140.0</td>\n",
       "      <td>9.0</td>\n",
       "      <td>27.0</td>\n",
       "      <td>-999.9</td>\n",
       "      <td>-999.9</td>\n",
       "      <td>-999.9</td>\n",
       "      <td>3614.0</td>\n",
       "      <td>601.0</td>\n",
       "      <td>20.8</td>\n",
       "      <td>651.3</td>\n",
       "    </tr>\n",
       "    <tr>\n",
       "      <th>2</th>\n",
       "      <td>3</td>\n",
       "      <td>34.0081</td>\n",
       "      <td>-104.0169</td>\n",
       "      <td>141.1</td>\n",
       "      <td>-266.0</td>\n",
       "      <td>-99</td>\n",
       "      <td>-9999</td>\n",
       "      <td>140.0</td>\n",
       "      <td>9.0</td>\n",
       "      <td>27.0</td>\n",
       "      <td>-999.9</td>\n",
       "      <td>-999.9</td>\n",
       "      <td>-999.9</td>\n",
       "      <td>3614.0</td>\n",
       "      <td>601.0</td>\n",
       "      <td>20.8</td>\n",
       "      <td>651.3</td>\n",
       "    </tr>\n",
       "    <tr>\n",
       "      <th>3</th>\n",
       "      <td>4</td>\n",
       "      <td>34.0084</td>\n",
       "      <td>-104.0164</td>\n",
       "      <td>136.6</td>\n",
       "      <td>-266.0</td>\n",
       "      <td>-99</td>\n",
       "      <td>-9999</td>\n",
       "      <td>157.0</td>\n",
       "      <td>29.0</td>\n",
       "      <td>10.0</td>\n",
       "      <td>-999.9</td>\n",
       "      <td>-999.9</td>\n",
       "      <td>-999.9</td>\n",
       "      <td>3660.0</td>\n",
       "      <td>597.0</td>\n",
       "      <td>20.8</td>\n",
       "      <td>654.1</td>\n",
       "    </tr>\n",
       "    <tr>\n",
       "      <th>4</th>\n",
       "      <td>5</td>\n",
       "      <td>34.0088</td>\n",
       "      <td>-104.0158</td>\n",
       "      <td>132.6</td>\n",
       "      <td>-266.0</td>\n",
       "      <td>-99</td>\n",
       "      <td>-9999</td>\n",
       "      <td>97.0</td>\n",
       "      <td>54.0</td>\n",
       "      <td>30.0</td>\n",
       "      <td>-999.9</td>\n",
       "      <td>-999.9</td>\n",
       "      <td>-999.9</td>\n",
       "      <td>3584.0</td>\n",
       "      <td>593.0</td>\n",
       "      <td>20.5</td>\n",
       "      <td>651.3</td>\n",
       "    </tr>\n",
       "    <tr>\n",
       "      <th>5</th>\n",
       "      <td>6</td>\n",
       "      <td>34.0090</td>\n",
       "      <td>-104.0153</td>\n",
       "      <td>129.2</td>\n",
       "      <td>-266.0</td>\n",
       "      <td>-99</td>\n",
       "      <td>-9999</td>\n",
       "      <td>112.0</td>\n",
       "      <td>66.0</td>\n",
       "      <td>36.0</td>\n",
       "      <td>-999.9</td>\n",
       "      <td>-999.9</td>\n",
       "      <td>-999.9</td>\n",
       "      <td>3657.0</td>\n",
       "      <td>589.0</td>\n",
       "      <td>20.8</td>\n",
       "      <td>656.3</td>\n",
       "    </tr>\n",
       "    <tr>\n",
       "      <th>6</th>\n",
       "      <td>7</td>\n",
       "      <td>34.0096</td>\n",
       "      <td>-104.0147</td>\n",
       "      <td>126.8</td>\n",
       "      <td>-265.0</td>\n",
       "      <td>-99</td>\n",
       "      <td>-9999</td>\n",
       "      <td>153.0</td>\n",
       "      <td>3.0</td>\n",
       "      <td>31.0</td>\n",
       "      <td>-999.9</td>\n",
       "      <td>-999.9</td>\n",
       "      <td>-999.9</td>\n",
       "      <td>3618.0</td>\n",
       "      <td>587.0</td>\n",
       "      <td>20.2</td>\n",
       "      <td>654.1</td>\n",
       "    </tr>\n",
       "    <tr>\n",
       "      <th>7</th>\n",
       "      <td>8</td>\n",
       "      <td>34.0100</td>\n",
       "      <td>-104.0142</td>\n",
       "      <td>124.1</td>\n",
       "      <td>-266.0</td>\n",
       "      <td>-99</td>\n",
       "      <td>-9999</td>\n",
       "      <td>115.0</td>\n",
       "      <td>71.0</td>\n",
       "      <td>26.0</td>\n",
       "      <td>-999.9</td>\n",
       "      <td>-999.9</td>\n",
       "      <td>-999.9</td>\n",
       "      <td>3535.0</td>\n",
       "      <td>584.0</td>\n",
       "      <td>20.8</td>\n",
       "      <td>648.7</td>\n",
       "    </tr>\n",
       "    <tr>\n",
       "      <th>8</th>\n",
       "      <td>9</td>\n",
       "      <td>34.0102</td>\n",
       "      <td>-104.0136</td>\n",
       "      <td>123.4</td>\n",
       "      <td>-264.0</td>\n",
       "      <td>-99</td>\n",
       "      <td>-9999</td>\n",
       "      <td>135.0</td>\n",
       "      <td>82.0</td>\n",
       "      <td>16.0</td>\n",
       "      <td>-999.9</td>\n",
       "      <td>-999.9</td>\n",
       "      <td>-999.9</td>\n",
       "      <td>3594.0</td>\n",
       "      <td>583.0</td>\n",
       "      <td>20.5</td>\n",
       "      <td>650.0</td>\n",
       "    </tr>\n",
       "    <tr>\n",
       "      <th>9</th>\n",
       "      <td>10</td>\n",
       "      <td>34.0104</td>\n",
       "      <td>-104.0131</td>\n",
       "      <td>122.5</td>\n",
       "      <td>-265.0</td>\n",
       "      <td>-99</td>\n",
       "      <td>-9999</td>\n",
       "      <td>160.0</td>\n",
       "      <td>66.0</td>\n",
       "      <td>10.0</td>\n",
       "      <td>-999.9</td>\n",
       "      <td>-999.9</td>\n",
       "      <td>-999.9</td>\n",
       "      <td>3683.0</td>\n",
       "      <td>582.0</td>\n",
       "      <td>20.8</td>\n",
       "      <td>651.3</td>\n",
       "    </tr>\n",
       "  </tbody>\n",
       "</table>\n",
       "</div>"
      ],
      "text/plain": [
       "   fid  latitude  longitude  radalt  resmag  geology  qual  app_K  app_U  \\\n",
       "0    1   34.0081  -104.0169   141.1  -266.0      -99 -9999  140.0    9.0   \n",
       "1    2   34.0081  -104.0169   141.1  -266.0      -99 -9999  140.0    9.0   \n",
       "2    3   34.0081  -104.0169   141.1  -266.0      -99 -9999  140.0    9.0   \n",
       "3    4   34.0084  -104.0164   136.6  -266.0      -99 -9999  157.0   29.0   \n",
       "4    5   34.0088  -104.0158   132.6  -266.0      -99 -9999   97.0   54.0   \n",
       "5    6   34.0090  -104.0153   129.2  -266.0      -99 -9999  112.0   66.0   \n",
       "6    7   34.0096  -104.0147   126.8  -265.0      -99 -9999  153.0    3.0   \n",
       "7    8   34.0100  -104.0142   124.1  -266.0      -99 -9999  115.0   71.0   \n",
       "8    9   34.0102  -104.0136   123.4  -264.0      -99 -9999  135.0   82.0   \n",
       "9   10   34.0104  -104.0131   122.5  -265.0      -99 -9999  160.0   66.0   \n",
       "\n",
       "   app_Th  U_Th_ratio  U_K_ratio  Th_K_ratio  total_count  atmos_BI214  \\\n",
       "0    27.0      -999.9     -999.9      -999.9       3614.0        601.0   \n",
       "1    27.0      -999.9     -999.9      -999.9       3614.0        601.0   \n",
       "2    27.0      -999.9     -999.9      -999.9       3614.0        601.0   \n",
       "3    10.0      -999.9     -999.9      -999.9       3660.0        597.0   \n",
       "4    30.0      -999.9     -999.9      -999.9       3584.0        593.0   \n",
       "5    36.0      -999.9     -999.9      -999.9       3657.0        589.0   \n",
       "6    31.0      -999.9     -999.9      -999.9       3618.0        587.0   \n",
       "7    26.0      -999.9     -999.9      -999.9       3535.0        584.0   \n",
       "8    16.0      -999.9     -999.9      -999.9       3594.0        583.0   \n",
       "9    10.0      -999.9     -999.9      -999.9       3683.0        582.0   \n",
       "\n",
       "   air_temp  air_press  \n",
       "0      20.8      651.3  \n",
       "1      20.8      651.3  \n",
       "2      20.8      651.3  \n",
       "3      20.8      654.1  \n",
       "4      20.5      651.3  \n",
       "5      20.8      656.3  \n",
       "6      20.2      654.1  \n",
       "7      20.8      648.7  \n",
       "8      20.5      650.0  \n",
       "9      20.8      651.3  "
      ]
     },
     "execution_count": 38,
     "metadata": {},
     "output_type": "execute_result"
    }
   ],
   "source": [
    "rad_DataFrame.head(10)"
   ]
  },
  {
   "cell_type": "markdown",
   "metadata": {},
   "source": [
    "#### Radiometric DataFrame Labels (70651 rows × 17 columns)\n",
    "\n",
    "    0: fiducial number (integer)\n",
    "    1: latitude (decimal degrees)\n",
    "    2: longitude (decimal degrees)\n",
    "    3: radar altimeter reading above ground (meters)\n",
    "    4: residual magnetic value (nT)\n",
    "    5: surficial geology beneath flight line (coded)\n",
    "    6: quality flags of the radiometrics (integer)\n",
    "    7: apparent Potassium as Potassium 40 (percent potassium)\n",
    "    8: apparent Uranium as Bismuth 214 (parts per million equivalent uranium)\n",
    "    9: apparent Thorium as Thallium 208 (parts per million equivalent thorium)\n",
    "    10: ratio of Uranium and Thorium\n",
    "    11: ratio of Uranium and Potassium\n",
    "    12: ratio of Thorium and Potassium\n",
    "    13: total count of radioactivity (counts/second)\n",
    "    14: atmospheric Uranium as Bi214 (counts/second)\n",
    "    15: air temperature (degrees Celsius)\n",
    "    16: air pressure (mmHg)"
   ]
  },
  {
   "cell_type": "markdown",
   "metadata": {},
   "source": [
    "Cell creates a scatter plot to visualize the total counts of radioactivity (measured in counts/second) gathered during each individual reading"
   ]
  },
  {
   "cell_type": "code",
   "execution_count": 39,
   "metadata": {},
   "outputs": [
    {
     "data": {
      "image/png": "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",
      "text/plain": [
       "<Figure size 432x288 with 1 Axes>"
      ]
     },
     "metadata": {
      "needs_background": "light"
     },
     "output_type": "display_data"
    }
   ],
   "source": [
    "rad_count_column = rad_DataFrame.loc[:, \"total_count\"]\n",
    "# radioactivity count numpy array\n",
    "rad_count = rad_count_column.values\n",
    "\n",
    "# plots counts of radioactivty detected in counts/second\n",
    "plt.scatter(x=range(len(rad_count)), y=rad_count, marker=\",\")\n",
    "plt.xlabel(\"Data Sample Index\") # x-axis label\n",
    "plt.ylabel(\"Total Counts of Radioactivity\") # y-axis label\n",
    "plt.show()\n"
   ]
  },
  {
   "cell_type": "markdown",
   "metadata": {},
   "source": [
    "Cell creates a scatter plot to visualize the apparent percentages of Potassium 40 recorded during each reading"
   ]
  },
  {
   "cell_type": "code",
   "execution_count": 40,
   "metadata": {},
   "outputs": [
    {
     "data": {
      "image/png": "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",
      "text/plain": [
       "<Figure size 432x288 with 1 Axes>"
      ]
     },
     "metadata": {
      "needs_background": "light"
     },
     "output_type": "display_data"
    }
   ],
   "source": [
    "K_count_column = rad_DataFrame.loc[:, \"app_K\"]\n",
    "# percentages of potassium numpy array\n",
    "K_count = K_count_column.values\n",
    "\n",
    "# plots apparent percentages of Potassium 40 at each reading\n",
    "plt.scatter(x=range(len(K_count)), y=K_count, marker=\",\")\n",
    "plt.xlabel(\"Data Sample Index\") # x-axis label\n",
    "plt.ylabel(\"Percentage of Potassium 40\") # y-axis label\n",
    "plt.show()"
   ]
  },
  {
   "cell_type": "markdown",
   "metadata": {},
   "source": [
    "Percentages exceed 100 for some reason?"
   ]
  },
  {
   "cell_type": "markdown",
   "metadata": {},
   "source": [
    "Cell creates a scatter plot to visualize the apparent amount of Uranium (measured in parts/million) seen during each reading. The readings actually record the radioactive isotope Bismuth 214 instead of Uranium directly, because this isotope is used to estimate the concentrations of Uranium. "
   ]
  },
  {
   "cell_type": "code",
   "execution_count": 41,
   "metadata": {},
   "outputs": [
    {
     "data": {
      "image/png": "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",
      "text/plain": [
       "<Figure size 432x288 with 1 Axes>"
      ]
     },
     "metadata": {
      "needs_background": "light"
     },
     "output_type": "display_data"
    }
   ],
   "source": [
    "U_count_column = rad_DataFrame.loc[:, \"app_U\"]\n",
    "# Bismuth 214 count numpy array\n",
    "U_count = U_count_column.values\n",
    "\n",
    "# plots apparent concentrations of Uranium as Bismuth 214\n",
    "plt.scatter(x=range(len(U_count)), y=U_count, marker=\",\")\n",
    "plt.xlabel(\"Data Sample Index\") # x-axis label\n",
    "plt.ylabel(\"Apparent Uranium\") # y-axis label\n",
    "plt.show()"
   ]
  },
  {
   "cell_type": "markdown",
   "metadata": {},
   "source": [
    "Cell creates a scatter plot to visualize the apparent amount of Thorium (measured in parts/million) seen during each reading. In this data, the element Thorium is measured by estimating its concentation using the isotope Thallium 208."
   ]
  },
  {
   "cell_type": "code",
   "execution_count": 42,
   "metadata": {},
   "outputs": [
    {
     "data": {
      "image/png": "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",
      "text/plain": [
       "<Figure size 432x288 with 1 Axes>"
      ]
     },
     "metadata": {
      "needs_background": "light"
     },
     "output_type": "display_data"
    }
   ],
   "source": [
    "Th_count_column = rad_DataFrame.loc[:, \"app_Th\"]\n",
    "# Thallium 208 count numpy array\n",
    "Th_count = Th_count_column.values\n",
    "\n",
    "# plots apparent concentrations of Thorium as Thallium 208\n",
    "plt.scatter(x=range(len(Th_count)), y=Th_count, marker=\",\")\n",
    "plt.xlabel(\"Data Sample Index\") # x-axis label\n",
    "plt.ylabel(\"Apparent Thorium\") # y-axis label\n",
    "plt.show()"
   ]
  },
  {
   "cell_type": "markdown",
   "metadata": {},
   "source": [
    "#### Clustering\n",
    "\n",
    "New DataFrame holds the feature data that will be used for clustering\n",
    "\n",
    "Adapted code from \"https://towardsdatascience.com/machine-learning-algorithms-part-12-hierarchical-agglomerative-clustering-example-in-python-1e18e0075019\""
   ]
  },
  {
   "cell_type": "code",
   "execution_count": 43,
   "metadata": {},
   "outputs": [],
   "source": [
    "resmag_data_column = mag_DataFrame.loc[:, [\"resmag\"]]\n",
    "rad_count_column = rad_DataFrame.loc[range(len(resmag_data_column)), \"total_count\"]\n",
    "\n",
    "clustering_DataFrame = pd.concat([resmag_data_column, rad_count_column], axis=1)\n"
   ]
  },
  {
   "cell_type": "code",
   "execution_count": 44,
   "metadata": {},
   "outputs": [
    {
     "data": {
      "text/html": [
       "<div>\n",
       "<style scoped>\n",
       "    .dataframe tbody tr th:only-of-type {\n",
       "        vertical-align: middle;\n",
       "    }\n",
       "\n",
       "    .dataframe tbody tr th {\n",
       "        vertical-align: top;\n",
       "    }\n",
       "\n",
       "    .dataframe thead th {\n",
       "        text-align: right;\n",
       "    }\n",
       "</style>\n",
       "<table border=\"1\" class=\"dataframe\">\n",
       "  <thead>\n",
       "    <tr style=\"text-align: right;\">\n",
       "      <th></th>\n",
       "      <th>resmag</th>\n",
       "      <th>total_count</th>\n",
       "    </tr>\n",
       "  </thead>\n",
       "  <tbody>\n",
       "    <tr>\n",
       "      <th>0</th>\n",
       "      <td>-176.9</td>\n",
       "      <td>3614.0</td>\n",
       "    </tr>\n",
       "    <tr>\n",
       "      <th>1</th>\n",
       "      <td>-176.9</td>\n",
       "      <td>3614.0</td>\n",
       "    </tr>\n",
       "    <tr>\n",
       "      <th>2</th>\n",
       "      <td>-176.8</td>\n",
       "      <td>3614.0</td>\n",
       "    </tr>\n",
       "    <tr>\n",
       "      <th>3</th>\n",
       "      <td>-175.0</td>\n",
       "      <td>3660.0</td>\n",
       "    </tr>\n",
       "    <tr>\n",
       "      <th>4</th>\n",
       "      <td>-177.1</td>\n",
       "      <td>3584.0</td>\n",
       "    </tr>\n",
       "    <tr>\n",
       "      <th>5</th>\n",
       "      <td>-177.0</td>\n",
       "      <td>3657.0</td>\n",
       "    </tr>\n",
       "    <tr>\n",
       "      <th>6</th>\n",
       "      <td>-175.9</td>\n",
       "      <td>3618.0</td>\n",
       "    </tr>\n",
       "    <tr>\n",
       "      <th>7</th>\n",
       "      <td>-177.8</td>\n",
       "      <td>3535.0</td>\n",
       "    </tr>\n",
       "    <tr>\n",
       "      <th>8</th>\n",
       "      <td>-176.2</td>\n",
       "      <td>3594.0</td>\n",
       "    </tr>\n",
       "    <tr>\n",
       "      <th>9</th>\n",
       "      <td>-177.3</td>\n",
       "      <td>3683.0</td>\n",
       "    </tr>\n",
       "  </tbody>\n",
       "</table>\n",
       "</div>"
      ],
      "text/plain": [
       "   resmag  total_count\n",
       "0  -176.9       3614.0\n",
       "1  -176.9       3614.0\n",
       "2  -176.8       3614.0\n",
       "3  -175.0       3660.0\n",
       "4  -177.1       3584.0\n",
       "5  -177.0       3657.0\n",
       "6  -175.9       3618.0\n",
       "7  -177.8       3535.0\n",
       "8  -176.2       3594.0\n",
       "9  -177.3       3683.0"
      ]
     },
     "execution_count": 44,
     "metadata": {},
     "output_type": "execute_result"
    }
   ],
   "source": [
    "clustering_DataFrame.head(10)"
   ]
  },
  {
   "cell_type": "code",
   "execution_count": 45,
   "metadata": {},
   "outputs": [
    {
     "data": {
      "text/plain": [
       "AgglomerativeClustering(n_clusters=3)"
      ]
     },
     "execution_count": 45,
     "metadata": {},
     "output_type": "execute_result"
    }
   ],
   "source": [
    "# turns DataFrame into an array of raw numerical values\n",
    "# full dataset takes to0 long to cluster so only used first 40,000 index values\n",
    "cluster_data_array = clustering_DataFrame.head(40000).values\n",
    "\n",
    "# model for clustering\n",
    "# chose 3 clusters, as there are 3 different elements detected in the dataset (Potassium, Uranium, and Thorium)\n",
    "clustering_model = AgglomerativeClustering(n_clusters=3, affinity='euclidean', linkage='ward')\n",
    "clustering_model.fit(cluster_data_array)"
   ]
  },
  {
   "cell_type": "code",
   "execution_count": 46,
   "metadata": {},
   "outputs": [
    {
     "data": {
      "image/png": "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",
      "text/plain": [
       "<Figure size 432x288 with 1 Axes>"
      ]
     },
     "metadata": {
      "needs_background": "light"
     },
     "output_type": "display_data"
    }
   ],
   "source": [
    "# array stores labels of the data that were assigned by the clustering algorithm\n",
    "cluster_labels = clustering_model.labels_\n",
    "\n",
    "# visualization of cluster using scatter plot\n",
    "plt.scatter(cluster_data_array[cluster_labels==0, 0], cluster_data_array[cluster_labels==0, 1], marker='o', color='red')\n",
    "plt.scatter(cluster_data_array[cluster_labels==1, 0], cluster_data_array[cluster_labels==1, 1], marker='o', color='blue')\n",
    "plt.scatter(cluster_data_array[cluster_labels==2, 0], cluster_data_array[cluster_labels==2, 1], marker='o', color='green')\n",
    "plt.xlabel(\"Residual Magnetic Value\")\n",
    "plt.ylabel(\"Total Counts of Radioactivity\")\n",
    "plt.show()"
    "km = KMeans(n_clusters=3)\n"
    "pred_y = km.fit_predict(cluster_data_array)\n"
    "print(pred_y)\n"
    "cluster_data_array['cluster'] = pred_y\n"

    "km1 = cluster_data_array[cluster_data_array.cluster==0]\n"
    "km2 = cluster_data_array[cluster_data_array.cluster==1]\n"
    "km3 = cluster_data_array[cluster_data_array.cluster==2]\n"
    "plt.scatter(km1.resmag,km1['total_count'], color='red')\n"
    "plt.scatter(km2.resmag,km2['total_count'], color='blue')\n"
    "plt.scatter(km3.resmag,km3['total_count'], color='green')\n"
    "plt.scatter(km.cluster_centers_[:,0],km.cluster_centers_[:,1],color='purple',marker='*',label='centroid')\n"
    "plt.show()\n"


   ]
  }
 ],
 "metadata": {
  "interpreter": {
   "hash": "d7b7c602f601cd784572781f5d2d50974e7b6a9d052e204afc738f785f01458d"
  },
  "kernelspec": {
   "display_name": "Python 3.9.7 64-bit ('FRI_PROJECT': conda)",
   "name": "python3"
  },
  "language_info": {
   "codemirror_mode": {
    "name": "ipython",
    "version": 3
   },
   "file_extension": ".py",
   "mimetype": "text/x-python",
   "name": "python",
   "nbconvert_exporter": "python",
   "pygments_lexer": "ipython3",
   "version": "3.9.7"
  }
 },
 "nbformat": 4,
 "nbformat_minor": 4
}
