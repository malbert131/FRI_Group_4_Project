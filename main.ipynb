{
 "cells": [
  {
   "cell_type": "markdown",
   "metadata": {},
   "source": [
    "#### Goal\n",
    "\n",
    "Using Machine Learning algorithms to accurately predict the location of Uranium deposits using\n",
    "surface level-data, such as magnetic and radiometric values\n",
    "\n",
    "\n",
    "#### Project Description\n",
    "\n",
    "Our main dataset for training/testing is from the United States Geological Survey and was gathered in 1976. In this survey, data was gathered by aircraft that flew over the border area of New Mexico and Texas, and recorded magnetic-field and radiometric values and locations. Contained in this dataset are latitude, longitude, altitude, and magnetic-field values. Additionally, there are geologic symbols detailing the area in the data sets. The aircrafts tracked the locations of Uranium, Thorium, and Potassium, but we will be focusing on Uranium in this project. We plan to group the different elements using Agglomerative Hierarchical Clustering. "
   ]
  },
  {
   "cell_type": "markdown",
   "metadata": {},
   "source": [
    "This section of imports displays the various packages used in our project"
   ]
  },
  {
   "cell_type": "code",
   "execution_count": 47,
   "metadata": {},
   "outputs": [],
   "source": [
    "import pandas as pd # used for DataFrames\n",
    "import numpy as np # used for numpy arrays\n",
    "import matplotlib.pyplot as plt # used to graphically visualize data points\n",
    "from sklearn.cluster import AgglomerativeClustering, KMeans # for machine learning algorithms\n",
    "import scipy.cluster.hierarchy as sch # for dendrograms\n",
    "from sklearn.preprocessing import MinMaxScaler"
   ]
  },
  {
   "cell_type": "markdown",
   "metadata": {},
   "source": [
    "Function to organize .xyz file data into python list with correct data types of features.\n",
    "Lists will be used as input data in Pandas DataFrame"
   ]
  },
  {
   "cell_type": "code",
   "execution_count": 48,
   "metadata": {},
   "outputs": [],
   "source": [
    "def xyz_to_list(xyz_file):\n",
    "    data_list = []\n",
    "    for row in xyz_file:\n",
    "        # splits rows of .xyz data to list of strings\n",
    "        row_array = row.split()\n",
    "        # changes string values in list to correct data type\n",
    "        for i in range(len(row_array)):\n",
    "            if row_array[i].find(\".\") != -1:\n",
    "                row_array[i] = float(row_array[i])\n",
    "            elif row_array[i].isdigit() or row_array[i][1:].isdigit():\n",
    "                row_array[i] = int(row_array[i])\n",
    "        # adds list of row data to the main list\n",
    "        data_list.append(row_array)\n",
    "    # returns organized list of data\n",
    "    return data_list"
   ]
  },
  {
   "cell_type": "code",
   "execution_count": 49,
   "metadata": {},
   "outputs": [
    {
     "name": "stdout",
     "output_type": "stream",
     "text": [
      "[16, 211, 115600, 103, 1976, 34.696, -101.9878, 139.9, 53303.7, -176.9, -9999.9, 'TO', 107.0]\n"
     ]
    }
   ],
   "source": [
    "# Magnetic .xyz file to python list\n",
    "clovis_mag = \"CLOVIS/clovis_mag.xyz\" # magnetic data file path\n",
    "xyz_mag = open(clovis_mag, \"r\") # create xyz file object\n",
    "mag_list = xyz_to_list(xyz_mag) # magnetic data formatted in python list\n",
    "\n",
    "print(mag_list[0])"
   ]
  },
  {
   "cell_type": "markdown",
   "metadata": {},
   "source": [
    "Cell creates DataFrame for the magnetic data and removes the features that we decided were unnecessary"
   ]
  },
  {
   "cell_type": "code",
   "execution_count": 50,
   "metadata": {},
   "outputs": [],
   "source": [
    "# DataFrame for magnetic data\n",
    "mag_DataFrame = pd.DataFrame(mag_list, columns=[\"line\", \"fid\", \"time\", \"day\", \"year\", \"latitude\", \n",
    "                                    \"longitude\", \"radalt\", \"totmag\", \"resmag\", \"diurnal\", \"geology\", \"resmagCM4\"])\n",
    "\n",
    "# Option forces all columns of data to be printed in the DataFrame\n",
    "pd.set_option('display.max_columns', None)\n",
    "\n",
    "# uses drop() function to remove line, time, day, and year features from the magnetic dataset\n",
    "mag_DataFrame = mag_DataFrame.drop(columns=[\"line\", \"time\", \"day\", \"year\"])"
   ]
  },
  {
   "cell_type": "code",
   "execution_count": 51,
   "metadata": {},
   "outputs": [
    {
     "data": {
      "text/html": [
       "<div>\n",
       "<style scoped>\n",
       "    .dataframe tbody tr th:only-of-type {\n",
       "        vertical-align: middle;\n",
       "    }\n",
       "\n",
       "    .dataframe tbody tr th {\n",
       "        vertical-align: top;\n",
       "    }\n",
       "\n",
       "    .dataframe thead th {\n",
       "        text-align: right;\n",
       "    }\n",
       "</style>\n",
       "<table border=\"1\" class=\"dataframe\">\n",
       "  <thead>\n",
       "    <tr style=\"text-align: right;\">\n",
       "      <th></th>\n",
       "      <th>fid</th>\n",
       "      <th>latitude</th>\n",
       "      <th>longitude</th>\n",
       "      <th>radalt</th>\n",
       "      <th>totmag</th>\n",
       "      <th>resmag</th>\n",
       "      <th>diurnal</th>\n",
       "      <th>geology</th>\n",
       "      <th>resmagCM4</th>\n",
       "    </tr>\n",
       "  </thead>\n",
       "  <tbody>\n",
       "    <tr>\n",
       "      <th>0</th>\n",
       "      <td>211</td>\n",
       "      <td>34.6960</td>\n",
       "      <td>-101.9878</td>\n",
       "      <td>139.9</td>\n",
       "      <td>53303.7</td>\n",
       "      <td>-176.9</td>\n",
       "      <td>-9999.9</td>\n",
       "      <td>TO</td>\n",
       "      <td>107.0</td>\n",
       "    </tr>\n",
       "    <tr>\n",
       "      <th>1</th>\n",
       "      <td>212</td>\n",
       "      <td>34.6960</td>\n",
       "      <td>-101.9878</td>\n",
       "      <td>139.9</td>\n",
       "      <td>53303.7</td>\n",
       "      <td>-176.9</td>\n",
       "      <td>-9999.9</td>\n",
       "      <td>TO</td>\n",
       "      <td>107.0</td>\n",
       "    </tr>\n",
       "    <tr>\n",
       "      <th>2</th>\n",
       "      <td>213</td>\n",
       "      <td>34.6968</td>\n",
       "      <td>-101.9883</td>\n",
       "      <td>137.8</td>\n",
       "      <td>53304.4</td>\n",
       "      <td>-176.8</td>\n",
       "      <td>-9999.9</td>\n",
       "      <td>TO</td>\n",
       "      <td>107.2</td>\n",
       "    </tr>\n",
       "    <tr>\n",
       "      <th>3</th>\n",
       "      <td>214</td>\n",
       "      <td>34.6974</td>\n",
       "      <td>-101.9888</td>\n",
       "      <td>136.2</td>\n",
       "      <td>53306.5</td>\n",
       "      <td>-175.0</td>\n",
       "      <td>-9999.9</td>\n",
       "      <td>TO</td>\n",
       "      <td>109.0</td>\n",
       "    </tr>\n",
       "    <tr>\n",
       "      <th>4</th>\n",
       "      <td>215</td>\n",
       "      <td>34.6981</td>\n",
       "      <td>-101.9893</td>\n",
       "      <td>135.3</td>\n",
       "      <td>53304.8</td>\n",
       "      <td>-177.1</td>\n",
       "      <td>-9999.9</td>\n",
       "      <td>TO</td>\n",
       "      <td>106.8</td>\n",
       "    </tr>\n",
       "    <tr>\n",
       "      <th>5</th>\n",
       "      <td>216</td>\n",
       "      <td>34.6987</td>\n",
       "      <td>-101.9898</td>\n",
       "      <td>135.0</td>\n",
       "      <td>53305.2</td>\n",
       "      <td>-177.0</td>\n",
       "      <td>-9999.9</td>\n",
       "      <td>TO</td>\n",
       "      <td>107.0</td>\n",
       "    </tr>\n",
       "    <tr>\n",
       "      <th>6</th>\n",
       "      <td>217</td>\n",
       "      <td>34.6992</td>\n",
       "      <td>-101.9903</td>\n",
       "      <td>134.4</td>\n",
       "      <td>53306.6</td>\n",
       "      <td>-175.9</td>\n",
       "      <td>-9999.9</td>\n",
       "      <td>TO</td>\n",
       "      <td>108.1</td>\n",
       "    </tr>\n",
       "    <tr>\n",
       "      <th>7</th>\n",
       "      <td>218</td>\n",
       "      <td>34.6997</td>\n",
       "      <td>-101.9908</td>\n",
       "      <td>136.9</td>\n",
       "      <td>53304.8</td>\n",
       "      <td>-177.8</td>\n",
       "      <td>-9999.9</td>\n",
       "      <td>TO</td>\n",
       "      <td>106.2</td>\n",
       "    </tr>\n",
       "    <tr>\n",
       "      <th>8</th>\n",
       "      <td>219</td>\n",
       "      <td>34.7004</td>\n",
       "      <td>-101.9913</td>\n",
       "      <td>138.7</td>\n",
       "      <td>53306.7</td>\n",
       "      <td>-176.2</td>\n",
       "      <td>-9999.9</td>\n",
       "      <td>TO</td>\n",
       "      <td>107.7</td>\n",
       "    </tr>\n",
       "    <tr>\n",
       "      <th>9</th>\n",
       "      <td>220</td>\n",
       "      <td>34.7012</td>\n",
       "      <td>-101.9918</td>\n",
       "      <td>138.7</td>\n",
       "      <td>53306.1</td>\n",
       "      <td>-177.3</td>\n",
       "      <td>-9999.9</td>\n",
       "      <td>TO</td>\n",
       "      <td>106.8</td>\n",
       "    </tr>\n",
       "  </tbody>\n",
       "</table>\n",
       "</div>"
      ],
      "text/plain": [
       "   fid  latitude  longitude  radalt   totmag  resmag  diurnal geology  \\\n",
       "0  211   34.6960  -101.9878   139.9  53303.7  -176.9  -9999.9      TO   \n",
       "1  212   34.6960  -101.9878   139.9  53303.7  -176.9  -9999.9      TO   \n",
       "2  213   34.6968  -101.9883   137.8  53304.4  -176.8  -9999.9      TO   \n",
       "3  214   34.6974  -101.9888   136.2  53306.5  -175.0  -9999.9      TO   \n",
       "4  215   34.6981  -101.9893   135.3  53304.8  -177.1  -9999.9      TO   \n",
       "5  216   34.6987  -101.9898   135.0  53305.2  -177.0  -9999.9      TO   \n",
       "6  217   34.6992  -101.9903   134.4  53306.6  -175.9  -9999.9      TO   \n",
       "7  218   34.6997  -101.9908   136.9  53304.8  -177.8  -9999.9      TO   \n",
       "8  219   34.7004  -101.9913   138.7  53306.7  -176.2  -9999.9      TO   \n",
       "9  220   34.7012  -101.9918   138.7  53306.1  -177.3  -9999.9      TO   \n",
       "\n",
       "   resmagCM4  \n",
       "0      107.0  \n",
       "1      107.0  \n",
       "2      107.2  \n",
       "3      109.0  \n",
       "4      106.8  \n",
       "5      107.0  \n",
       "6      108.1  \n",
       "7      106.2  \n",
       "8      107.7  \n",
       "9      106.8  "
      ]
     },
     "execution_count": 51,
     "metadata": {},
     "output_type": "execute_result"
    }
   ],
   "source": [
    "# First 10 rows of mag data\n",
    "mag_DataFrame.head(10)"
   ]
  },
  {
   "cell_type": "markdown",
   "metadata": {},
   "source": [
    "#### Magnetic DataFrame Labels (70228 rows × 9 columns)\n",
    "\n",
    "\n",
    "    0: fiducial number (integer)\n",
    "    1: latitude (decimal degrees)\n",
    "    2: longitude (decimal degrees)\n",
    "    3: radar altimeter reading above ground (meters)\n",
    "    4: corrected magnetic value (nT)\n",
    "    5: residual magnetic value (nT)\n",
    "    6: ground magnetometer value (nT)\n",
    "    7: surficial geology beneath flight line (coded)\n",
    "    8: resmag calculated using the comprehensive model (nT)"
   ]
  },
  {
   "cell_type": "code",
   "execution_count": 52,
   "metadata": {},
   "outputs": [
    {
     "name": "stdout",
     "output_type": "stream",
     "text": [
      "[1, 1, 171900, 102, 1976, 34.0081, -104.0169, 141.1, -266.0, -99, -9999, 140.0, 9.0, 27.0, -999.9, -999.9, -999.9, 3614.0, 601.0, 20.8, 651.3]\n"
     ]
    }
   ],
   "source": [
    "# Radiometric xyz file to python lists\n",
    "clovis_rad = \"CLOVIS/clovis_rad.xyz\" # radiometric data file path\n",
    "xyz_rad = open(clovis_rad, \"r\") # create xyz file object\n",
    "rad_list = xyz_to_list(xyz_rad) # radiometric data formatted in python list\n",
    "\n",
    "print(rad_list[0])"
   ]
  },
  {
   "cell_type": "markdown",
   "metadata": {},
   "source": [
    "Cell creates DataFrame for the radiometric data and removes the features that we decided were unnecessary"
   ]
  },
  {
   "cell_type": "code",
   "execution_count": 53,
   "metadata": {},
   "outputs": [],
   "source": [
    "# DataFrame for radiometric data\n",
    "rad_DataFrame = pd.DataFrame(rad_list, columns = [\"line\", \"fid\", \"time\", \"day\", \"year\", \"latitude\", \"longitude\", \"radalt\", \"resmag\", \"geology\", \"qual\", \n",
    "                            \"app_K\", \"app_U\", \"app_Th\", \"U_Th_ratio\", \"U_K_ratio\", \"Th_K_ratio\", \"total_count\", \"atmos_BI214\", \"air_temp\", \"air_press\"])\n",
    "\n",
    "\n",
    "# uses drop() function to remove line, time, day, and year features from the radiometric dataset\n",
    "rad_DataFrame = rad_DataFrame.drop(columns=[\"line\", \"time\", \"day\", \"year\"])"
   ]
  },
  {
   "cell_type": "code",
   "execution_count": 54,
   "metadata": {},
   "outputs": [
    {
     "data": {
      "text/html": [
       "<div>\n",
       "<style scoped>\n",
       "    .dataframe tbody tr th:only-of-type {\n",
       "        vertical-align: middle;\n",
       "    }\n",
       "\n",
       "    .dataframe tbody tr th {\n",
       "        vertical-align: top;\n",
       "    }\n",
       "\n",
       "    .dataframe thead th {\n",
       "        text-align: right;\n",
       "    }\n",
       "</style>\n",
       "<table border=\"1\" class=\"dataframe\">\n",
       "  <thead>\n",
       "    <tr style=\"text-align: right;\">\n",
       "      <th></th>\n",
       "      <th>fid</th>\n",
       "      <th>latitude</th>\n",
       "      <th>longitude</th>\n",
       "      <th>radalt</th>\n",
       "      <th>resmag</th>\n",
       "      <th>geology</th>\n",
       "      <th>qual</th>\n",
       "      <th>app_K</th>\n",
       "      <th>app_U</th>\n",
       "      <th>app_Th</th>\n",
       "      <th>U_Th_ratio</th>\n",
       "      <th>U_K_ratio</th>\n",
       "      <th>Th_K_ratio</th>\n",
       "      <th>total_count</th>\n",
       "      <th>atmos_BI214</th>\n",
       "      <th>air_temp</th>\n",
       "      <th>air_press</th>\n",
       "    </tr>\n",
       "  </thead>\n",
       "  <tbody>\n",
       "    <tr>\n",
       "      <th>0</th>\n",
       "      <td>1</td>\n",
       "      <td>34.0081</td>\n",
       "      <td>-104.0169</td>\n",
       "      <td>141.1</td>\n",
       "      <td>-266.0</td>\n",
       "      <td>-99</td>\n",
       "      <td>-9999</td>\n",
       "      <td>140.0</td>\n",
       "      <td>9.0</td>\n",
       "      <td>27.0</td>\n",
       "      <td>-999.9</td>\n",
       "      <td>-999.9</td>\n",
       "      <td>-999.9</td>\n",
       "      <td>3614.0</td>\n",
       "      <td>601.0</td>\n",
       "      <td>20.8</td>\n",
       "      <td>651.3</td>\n",
       "    </tr>\n",
       "    <tr>\n",
       "      <th>1</th>\n",
       "      <td>2</td>\n",
       "      <td>34.0081</td>\n",
       "      <td>-104.0169</td>\n",
       "      <td>141.1</td>\n",
       "      <td>-266.0</td>\n",
       "      <td>-99</td>\n",
       "      <td>-9999</td>\n",
       "      <td>140.0</td>\n",
       "      <td>9.0</td>\n",
       "      <td>27.0</td>\n",
       "      <td>-999.9</td>\n",
       "      <td>-999.9</td>\n",
       "      <td>-999.9</td>\n",
       "      <td>3614.0</td>\n",
       "      <td>601.0</td>\n",
       "      <td>20.8</td>\n",
       "      <td>651.3</td>\n",
       "    </tr>\n",
       "    <tr>\n",
       "      <th>2</th>\n",
       "      <td>3</td>\n",
       "      <td>34.0081</td>\n",
       "      <td>-104.0169</td>\n",
       "      <td>141.1</td>\n",
       "      <td>-266.0</td>\n",
       "      <td>-99</td>\n",
       "      <td>-9999</td>\n",
       "      <td>140.0</td>\n",
       "      <td>9.0</td>\n",
       "      <td>27.0</td>\n",
       "      <td>-999.9</td>\n",
       "      <td>-999.9</td>\n",
       "      <td>-999.9</td>\n",
       "      <td>3614.0</td>\n",
       "      <td>601.0</td>\n",
       "      <td>20.8</td>\n",
       "      <td>651.3</td>\n",
       "    </tr>\n",
       "    <tr>\n",
       "      <th>3</th>\n",
       "      <td>4</td>\n",
       "      <td>34.0084</td>\n",
       "      <td>-104.0164</td>\n",
       "      <td>136.6</td>\n",
       "      <td>-266.0</td>\n",
       "      <td>-99</td>\n",
       "      <td>-9999</td>\n",
       "      <td>157.0</td>\n",
       "      <td>29.0</td>\n",
       "      <td>10.0</td>\n",
       "      <td>-999.9</td>\n",
       "      <td>-999.9</td>\n",
       "      <td>-999.9</td>\n",
       "      <td>3660.0</td>\n",
       "      <td>597.0</td>\n",
       "      <td>20.8</td>\n",
       "      <td>654.1</td>\n",
       "    </tr>\n",
       "    <tr>\n",
       "      <th>4</th>\n",
       "      <td>5</td>\n",
       "      <td>34.0088</td>\n",
       "      <td>-104.0158</td>\n",
       "      <td>132.6</td>\n",
       "      <td>-266.0</td>\n",
       "      <td>-99</td>\n",
       "      <td>-9999</td>\n",
       "      <td>97.0</td>\n",
       "      <td>54.0</td>\n",
       "      <td>30.0</td>\n",
       "      <td>-999.9</td>\n",
       "      <td>-999.9</td>\n",
       "      <td>-999.9</td>\n",
       "      <td>3584.0</td>\n",
       "      <td>593.0</td>\n",
       "      <td>20.5</td>\n",
       "      <td>651.3</td>\n",
       "    </tr>\n",
       "    <tr>\n",
       "      <th>5</th>\n",
       "      <td>6</td>\n",
       "      <td>34.0090</td>\n",
       "      <td>-104.0153</td>\n",
       "      <td>129.2</td>\n",
       "      <td>-266.0</td>\n",
       "      <td>-99</td>\n",
       "      <td>-9999</td>\n",
       "      <td>112.0</td>\n",
       "      <td>66.0</td>\n",
       "      <td>36.0</td>\n",
       "      <td>-999.9</td>\n",
       "      <td>-999.9</td>\n",
       "      <td>-999.9</td>\n",
       "      <td>3657.0</td>\n",
       "      <td>589.0</td>\n",
       "      <td>20.8</td>\n",
       "      <td>656.3</td>\n",
       "    </tr>\n",
       "    <tr>\n",
       "      <th>6</th>\n",
       "      <td>7</td>\n",
       "      <td>34.0096</td>\n",
       "      <td>-104.0147</td>\n",
       "      <td>126.8</td>\n",
       "      <td>-265.0</td>\n",
       "      <td>-99</td>\n",
       "      <td>-9999</td>\n",
       "      <td>153.0</td>\n",
       "      <td>3.0</td>\n",
       "      <td>31.0</td>\n",
       "      <td>-999.9</td>\n",
       "      <td>-999.9</td>\n",
       "      <td>-999.9</td>\n",
       "      <td>3618.0</td>\n",
       "      <td>587.0</td>\n",
       "      <td>20.2</td>\n",
       "      <td>654.1</td>\n",
       "    </tr>\n",
       "    <tr>\n",
       "      <th>7</th>\n",
       "      <td>8</td>\n",
       "      <td>34.0100</td>\n",
       "      <td>-104.0142</td>\n",
       "      <td>124.1</td>\n",
       "      <td>-266.0</td>\n",
       "      <td>-99</td>\n",
       "      <td>-9999</td>\n",
       "      <td>115.0</td>\n",
       "      <td>71.0</td>\n",
       "      <td>26.0</td>\n",
       "      <td>-999.9</td>\n",
       "      <td>-999.9</td>\n",
       "      <td>-999.9</td>\n",
       "      <td>3535.0</td>\n",
       "      <td>584.0</td>\n",
       "      <td>20.8</td>\n",
       "      <td>648.7</td>\n",
       "    </tr>\n",
       "    <tr>\n",
       "      <th>8</th>\n",
       "      <td>9</td>\n",
       "      <td>34.0102</td>\n",
       "      <td>-104.0136</td>\n",
       "      <td>123.4</td>\n",
       "      <td>-264.0</td>\n",
       "      <td>-99</td>\n",
       "      <td>-9999</td>\n",
       "      <td>135.0</td>\n",
       "      <td>82.0</td>\n",
       "      <td>16.0</td>\n",
       "      <td>-999.9</td>\n",
       "      <td>-999.9</td>\n",
       "      <td>-999.9</td>\n",
       "      <td>3594.0</td>\n",
       "      <td>583.0</td>\n",
       "      <td>20.5</td>\n",
       "      <td>650.0</td>\n",
       "    </tr>\n",
       "    <tr>\n",
       "      <th>9</th>\n",
       "      <td>10</td>\n",
       "      <td>34.0104</td>\n",
       "      <td>-104.0131</td>\n",
       "      <td>122.5</td>\n",
       "      <td>-265.0</td>\n",
       "      <td>-99</td>\n",
       "      <td>-9999</td>\n",
       "      <td>160.0</td>\n",
       "      <td>66.0</td>\n",
       "      <td>10.0</td>\n",
       "      <td>-999.9</td>\n",
       "      <td>-999.9</td>\n",
       "      <td>-999.9</td>\n",
       "      <td>3683.0</td>\n",
       "      <td>582.0</td>\n",
       "      <td>20.8</td>\n",
       "      <td>651.3</td>\n",
       "    </tr>\n",
       "  </tbody>\n",
       "</table>\n",
       "</div>"
      ],
      "text/plain": [
       "   fid  latitude  longitude  radalt  resmag  geology  qual  app_K  app_U  \\\n",
       "0    1   34.0081  -104.0169   141.1  -266.0      -99 -9999  140.0    9.0   \n",
       "1    2   34.0081  -104.0169   141.1  -266.0      -99 -9999  140.0    9.0   \n",
       "2    3   34.0081  -104.0169   141.1  -266.0      -99 -9999  140.0    9.0   \n",
       "3    4   34.0084  -104.0164   136.6  -266.0      -99 -9999  157.0   29.0   \n",
       "4    5   34.0088  -104.0158   132.6  -266.0      -99 -9999   97.0   54.0   \n",
       "5    6   34.0090  -104.0153   129.2  -266.0      -99 -9999  112.0   66.0   \n",
       "6    7   34.0096  -104.0147   126.8  -265.0      -99 -9999  153.0    3.0   \n",
       "7    8   34.0100  -104.0142   124.1  -266.0      -99 -9999  115.0   71.0   \n",
       "8    9   34.0102  -104.0136   123.4  -264.0      -99 -9999  135.0   82.0   \n",
       "9   10   34.0104  -104.0131   122.5  -265.0      -99 -9999  160.0   66.0   \n",
       "\n",
       "   app_Th  U_Th_ratio  U_K_ratio  Th_K_ratio  total_count  atmos_BI214  \\\n",
       "0    27.0      -999.9     -999.9      -999.9       3614.0        601.0   \n",
       "1    27.0      -999.9     -999.9      -999.9       3614.0        601.0   \n",
       "2    27.0      -999.9     -999.9      -999.9       3614.0        601.0   \n",
       "3    10.0      -999.9     -999.9      -999.9       3660.0        597.0   \n",
       "4    30.0      -999.9     -999.9      -999.9       3584.0        593.0   \n",
       "5    36.0      -999.9     -999.9      -999.9       3657.0        589.0   \n",
       "6    31.0      -999.9     -999.9      -999.9       3618.0        587.0   \n",
       "7    26.0      -999.9     -999.9      -999.9       3535.0        584.0   \n",
       "8    16.0      -999.9     -999.9      -999.9       3594.0        583.0   \n",
       "9    10.0      -999.9     -999.9      -999.9       3683.0        582.0   \n",
       "\n",
       "   air_temp  air_press  \n",
       "0      20.8      651.3  \n",
       "1      20.8      651.3  \n",
       "2      20.8      651.3  \n",
       "3      20.8      654.1  \n",
       "4      20.5      651.3  \n",
       "5      20.8      656.3  \n",
       "6      20.2      654.1  \n",
       "7      20.8      648.7  \n",
       "8      20.5      650.0  \n",
       "9      20.8      651.3  "
      ]
     },
     "execution_count": 54,
     "metadata": {},
     "output_type": "execute_result"
    }
   ],
   "source": [
    "rad_DataFrame.head(10)"
   ]
  },
  {
   "cell_type": "markdown",
   "metadata": {},
   "source": [
    "#### Radiometric DataFrame Labels (70651 rows × 17 columns)\n",
    "\n",
    "    0: fiducial number (integer)\n",
    "    1: latitude (decimal degrees)\n",
    "    2: longitude (decimal degrees)\n",
    "    3: radar altimeter reading above ground (meters)\n",
    "    4: residual magnetic value (nT)\n",
    "    5: surficial geology beneath flight line (coded)\n",
    "    6: quality flags of the radiometrics (integer)\n",
    "    7: apparent Potassium as Potassium 40 (percent potassium)\n",
    "    8: apparent Uranium as Bismuth 214 (parts per million equivalent uranium)\n",
    "    9: apparent Thorium as Thallium 208 (parts per million equivalent thorium)\n",
    "    10: ratio of Uranium and Thorium\n",
    "    11: ratio of Uranium and Potassium\n",
    "    12: ratio of Thorium and Potassium\n",
    "    13: total count of radioactivity (counts/second)\n",
    "    14: atmospheric Uranium as Bi214 (counts/second)\n",
    "    15: air temperature (degrees Celsius)\n",
    "    16: air pressure (mmHg)"
   ]
  },
  {
   "cell_type": "markdown",
   "metadata": {},
   "source": [
    "Cell creates a scatter plot to visualize the total counts of radioactivity (measured in counts/second) gathered during each individual reading"
   ]
  },
  {
   "cell_type": "code",
   "execution_count": 55,
   "metadata": {},
   "outputs": [
    {
     "data": {
      "image/png": "[encoded data removed]",
      "text/plain": [
       "<Figure size 432x288 with 1 Axes>"
      ]
     },
     "metadata": {
      "needs_background": "light"
     },
     "output_type": "display_data"
    }
   ],
   "source": [
    "rad_count_column = rad_DataFrame.loc[:, \"total_count\"]\n",
    "# radioactivity count numpy array\n",
    "rad_count = rad_count_column.values\n",
    "\n",
    "# plots counts of radioactivty detected in counts/second\n",
    "plt.scatter(x=range(len(rad_count)), y=rad_count, marker=\",\")\n",
    "plt.xlabel(\"Data Sample Index\") # x-axis label\n",
    "plt.ylabel(\"Total Counts of Radioactivity\") # y-axis label\n",
    "plt.show()\n"
   ]
  },
  {
   "cell_type": "markdown",
   "metadata": {},
   "source": [
    "Cell creates a scatter plot to visualize the apparent percentages of Potassium 40 recorded during each reading"
   ]
  },
  {
   "cell_type": "code",
   "execution_count": 56,
   "metadata": {},
   "outputs": [
    {
     "data": {
      "image/png": "[encoded data removed]",
      "text/plain": [
       "<Figure size 432x288 with 1 Axes>"
      ]
     },
     "metadata": {
      "needs_background": "light"
     },
     "output_type": "display_data"
    }
   ],
   "source": [
    "K_count_column = rad_DataFrame.loc[:, \"app_K\"]\n",
    "# percentages of potassium numpy array\n",
    "K_count = K_count_column.values\n",
    "\n",
    "# plots apparent percentages of Potassium 40 at each reading\n",
    "plt.scatter(x=range(len(K_count)), y=K_count, marker=\",\")\n",
    "plt.xlabel(\"Data Sample Index\") # x-axis label\n",
    "plt.ylabel(\"Percentage of Potassium 40\") # y-axis label\n",
    "plt.show()"
   ]
  },
  {
   "cell_type": "markdown",
   "metadata": {},
   "source": [
    "Percentages exceed 100 for some reason?"
   ]
  },
  {
   "cell_type": "markdown",
   "metadata": {},
   "source": [
    "Cell creates a scatter plot to visualize the apparent amount of Uranium (measured in parts/million) seen during each reading. The readings actually record the radioactive isotope Bismuth 214 instead of Uranium directly, because this isotope is used to estimate the concentrations of Uranium. "
   ]
  },
  {
   "cell_type": "code",
   "execution_count": 57,
   "metadata": {},
   "outputs": [
    {
     "data": {
      "image/png": "[encoded data removed]",
      "text/plain": [
       "<Figure size 432x288 with 1 Axes>"
      ]
     },
     "metadata": {
      "needs_background": "light"
     },
     "output_type": "display_data"
    }
   ],
   "source": [
    "U_count_column = rad_DataFrame.loc[:, \"app_U\"]\n",
    "# Bismuth 214 count numpy array\n",
    "U_count = U_count_column.values\n",
    "\n",
    "# plots apparent concentrations of Uranium as Bismuth 214\n",
    "plt.scatter(x=range(len(U_count)), y=U_count, marker=\",\")\n",
    "plt.xlabel(\"Data Sample Index\") # x-axis label\n",
    "plt.ylabel(\"Apparent Uranium\") # y-axis label\n",
    "plt.show()"
   ]
  },
  {
   "cell_type": "markdown",
   "metadata": {},
   "source": [
    "Cell creates a scatter plot to visualize the apparent amount of Thorium (measured in parts/million) seen during each reading. In this data, the element Thorium is measured by estimating its concentation using the isotope Thallium 208."
   ]
  },
  {
   "cell_type": "code",
   "execution_count": 58,
   "metadata": {},
   "outputs": [
    {
     "data": {
      "image/png": "[encoded data removed]",
      "text/plain": [
       "<Figure size 432x288 with 1 Axes>"
      ]
     },
     "metadata": {
      "needs_background": "light"
     },
     "output_type": "display_data"
    }
   ],
   "source": [
    "Th_count_column = rad_DataFrame.loc[:, \"app_Th\"]\n",
    "# Thallium 208 count numpy array\n",
    "Th_count = Th_count_column.values\n",
    "\n",
    "# plots apparent concentrations of Thorium as Thallium 208\n",
    "plt.scatter(x=range(len(Th_count)), y=Th_count, marker=\",\")\n",
    "plt.xlabel(\"Data Sample Index\") # x-axis label\n",
    "plt.ylabel(\"Apparent Thorium\") # y-axis label\n",
    "plt.show()"
   ]
  },
  {
   "cell_type": "markdown",
   "metadata": {},
   "source": [
    "#### Clustering\n",
    "\n",
    "New DataFrame holds the feature data that will be used for clustering\n",
    "\n",
    "Adapted code from \"https://towardsdatascience.com/machine-learning-algorithms-part-12-hierarchical-agglomerative-clustering-example-in-python-1e18e0075019\""
   ]
  },
  {
   "cell_type": "code",
   "execution_count": 59,
   "metadata": {},
   "outputs": [],
   "source": [
    "# Organizes data with chosen features for clustering\n",
    "resmag_data_column = mag_DataFrame.loc[:, [\"resmag\"]]\n",
    "rad_count_column = rad_DataFrame.loc[range(len(resmag_data_column)), \"total_count\"]\n",
    "\n",
    "clustering_DataFrame = pd.concat([resmag_data_column, rad_count_column], axis=1)\n"
   ]
  },
  {
   "cell_type": "code",
   "execution_count": 60,
   "metadata": {},
   "outputs": [
    {
     "data": {
      "text/html": [
       "<div>\n",
       "<style scoped>\n",
       "    .dataframe tbody tr th:only-of-type {\n",
       "        vertical-align: middle;\n",
       "    }\n",
       "\n",
       "    .dataframe tbody tr th {\n",
       "        vertical-align: top;\n",
       "    }\n",
       "\n",
       "    .dataframe thead th {\n",
       "        text-align: right;\n",
       "    }\n",
       "</style>\n",
       "<table border=\"1\" class=\"dataframe\">\n",
       "  <thead>\n",
       "    <tr style=\"text-align: right;\">\n",
       "      <th></th>\n",
       "      <th>resmag</th>\n",
       "      <th>total_count</th>\n",
       "    </tr>\n",
       "  </thead>\n",
       "  <tbody>\n",
       "    <tr>\n",
       "      <th>0</th>\n",
       "      <td>-176.9</td>\n",
       "      <td>3614.0</td>\n",
       "    </tr>\n",
       "    <tr>\n",
       "      <th>1</th>\n",
       "      <td>-176.9</td>\n",
       "      <td>3614.0</td>\n",
       "    </tr>\n",
       "    <tr>\n",
       "      <th>2</th>\n",
       "      <td>-176.8</td>\n",
       "      <td>3614.0</td>\n",
       "    </tr>\n",
       "    <tr>\n",
       "      <th>3</th>\n",
       "      <td>-175.0</td>\n",
       "      <td>3660.0</td>\n",
       "    </tr>\n",
       "    <tr>\n",
       "      <th>4</th>\n",
       "      <td>-177.1</td>\n",
       "      <td>3584.0</td>\n",
       "    </tr>\n",
       "    <tr>\n",
       "      <th>5</th>\n",
       "      <td>-177.0</td>\n",
       "      <td>3657.0</td>\n",
       "    </tr>\n",
       "    <tr>\n",
       "      <th>6</th>\n",
       "      <td>-175.9</td>\n",
       "      <td>3618.0</td>\n",
       "    </tr>\n",
       "    <tr>\n",
       "      <th>7</th>\n",
       "      <td>-177.8</td>\n",
       "      <td>3535.0</td>\n",
       "    </tr>\n",
       "    <tr>\n",
       "      <th>8</th>\n",
       "      <td>-176.2</td>\n",
       "      <td>3594.0</td>\n",
       "    </tr>\n",
       "    <tr>\n",
       "      <th>9</th>\n",
       "      <td>-177.3</td>\n",
       "      <td>3683.0</td>\n",
       "    </tr>\n",
       "  </tbody>\n",
       "</table>\n",
       "</div>"
      ],
      "text/plain": [
       "   resmag  total_count\n",
       "0  -176.9       3614.0\n",
       "1  -176.9       3614.0\n",
       "2  -176.8       3614.0\n",
       "3  -175.0       3660.0\n",
       "4  -177.1       3584.0\n",
       "5  -177.0       3657.0\n",
       "6  -175.9       3618.0\n",
       "7  -177.8       3535.0\n",
       "8  -176.2       3594.0\n",
       "9  -177.3       3683.0"
      ]
     },
     "execution_count": 60,
     "metadata": {},
     "output_type": "execute_result"
    }
   ],
   "source": [
    "clustering_DataFrame.head(10)"
   ]
  },
  {
   "cell_type": "code",
   "execution_count": 61,
   "metadata": {},
   "outputs": [],
   "source": [
    "# Function used to normalize input data to values between 0 and 1\n",
    "def normalize(input_data):\n",
    "    scaler = MinMaxScaler()\n",
    "    scaler.fit(input_data)\n",
    "    return scaler.transform(input_data)"
   ]
  },
  {
   "cell_type": "code",
   "execution_count": 70,
   "metadata": {},
   "outputs": [
    {
     "name": "stdout",
     "output_type": "stream",
     "text": [
      "[[0.76324426 0.33290951]\n",
      " [0.76324426 0.33290951]\n",
      " [0.76330286 0.33290951]\n",
      " ...\n",
      " [0.73640413 0.8427633 ]\n",
      " [0.73347398 0.80546726]\n",
      " [0.73165729 0.82983683]]\n"
     ]
    }
   ],
   "source": [
    "# turns DataFrame into an array of raw numerical values\n",
    "# full dataset takes too long to cluster so only used first 40,000 index values\n",
    "cluster_data_array = clustering_DataFrame.head(40000).values\n",
    "\n",
    "# normalizes data\n",
    "cluster_data_array = normalize(cluster_data_array)\n",
    "print(cluster_data_array)"
   ]
  },
  {
   "cell_type": "code",
   "execution_count": 71,
   "metadata": {},
   "outputs": [
    {
     "data": {
      "text/plain": [
       "AgglomerativeClustering(n_clusters=3)"
      ]
     },
     "execution_count": 71,
     "metadata": {},
     "output_type": "execute_result"
    }
   ],
   "source": [
    "# initializes model and fits model with radiometric and magnetic data\n",
    "\n",
    "# chose 3 clusters, as there are 3 different elements detected in the dataset (Potassium, Uranium, and Thorium)\n",
    "clustering_model = AgglomerativeClustering(n_clusters=3, affinity='euclidean', linkage='ward')\n",
    "clustering_model.fit(cluster_data_array)"
   ]
  },
  {
   "cell_type": "code",
   "execution_count": 64,
   "metadata": {},
   "outputs": [
    {
     "data": {
      "image/png": "[encoded data removed]",
      "text/plain": [
       "<Figure size 432x288 with 1 Axes>"
      ]
     },
     "metadata": {
      "needs_background": "light"
     },
     "output_type": "display_data"
    }
   ],
   "source": [
    "# array stores labels of the data that were assigned by the clustering algorithm\n",
    "cluster_labels = clustering_model.labels_\n",
    "\n",
    "# visualization of cluster using scatter plot\n",
    "plt.scatter(cluster_data_array[cluster_labels==0, 0], cluster_data_array[cluster_labels==0, 1], marker='o', color='red')\n",
    "plt.scatter(cluster_data_array[cluster_labels==1, 0], cluster_data_array[cluster_labels==1, 1], marker='o', color='blue')\n",
    "plt.scatter(cluster_data_array[cluster_labels==2, 0], cluster_data_array[cluster_labels==2, 1], marker='o', color='green')\n",
    "plt.xlabel(\"Residual Magnetic Value\")\n",
    "plt.ylabel(\"Total Counts of Radioactivity\")\n",
    "plt.show()"
   ]
  },
  {
   "cell_type": "markdown",
   "metadata": {},
   "source": [
    "#### K Means Clustering\n",
    "Adapted code from: https://github.com/codebasics/py/blob/master/ML/13_kmeans/13_kmeans_tutorial.ipynb"
   ]
  },
  {
   "cell_type": "code",
   "execution_count": 65,
   "metadata": {},
   "outputs": [],
   "source": [
    "df = pd.DataFrame(clustering_DataFrame, columns = ['resmag', 'total_count']) #redefine the dataframe\n",
    "\n",
    "def elbow_graph():\n",
    "    sse = [] #elbow graph to find the ideal k value\n",
    "    k_rng = range(1,10)\n",
    "    for k in k_rng:\n",
    "        km = KMeans(n_clusters=k)\n",
    "        km.fit(df[['resmag','total_count']])\n",
    "        sse.append(km.inertia_)\n",
    "    plt.xlabel('K')\n",
    "    plt.ylabel('Sum of squared error')\n",
    "    plt.plot(k_rng, sse)\n",
    "    plt.show()\n"
   ]
  },
  {
   "cell_type": "code",
   "execution_count": 66,
   "metadata": {},
   "outputs": [
    {
     "data": {
      "image/png": "[encoded data removed]",
      "text/plain": [
       "<Figure size 432x288 with 1 Axes>"
      ]
     },
     "metadata": {
      "needs_background": "light"
     },
     "output_type": "display_data"
    }
   ],
   "source": [
    "# Displays Graph\n",
    "elbow_graph()"
   ]
  },
  {
   "cell_type": "markdown",
   "metadata": {},
   "source": [
    "Data Normalization"
   ]
  },
  {
   "cell_type": "code",
   "execution_count": 67,
   "metadata": {},
   "outputs": [],
   "source": [
    "def scale(): # scale the data from zero to one\n",
    "    scaler = MinMaxScaler()\n",
    "    scaler.fit(df[['total_count']])\n",
    "    df['total_count'] = scaler.transform(df[['total_count']])\n",
    "\n",
    "    scaler.fit(df[['resmag']])\n",
    "    df['resmag'] = scaler.transform(df[['resmag']])"
   ]
  },
  {
   "cell_type": "markdown",
   "metadata": {},
   "source": [
    "KMeans Algorithm and Visualization of Results"
   ]
  },
  {
   "cell_type": "code",
   "execution_count": 68,
   "metadata": {},
   "outputs": [],
   "source": [
    "def kmeans():\n",
    "    km = KMeans(n_clusters=3) #three clusters via elbow graph\n",
    "    pred_y = km.fit_predict(df) #assigns a cluster to each row of the dataset\n",
    "    print((pred_y))\n",
    "    df['cluster'] = pred_y  #appends the cluster predictions to the dataset\n",
    "    # print(df)\n",
    "\n",
    "    #visualize the clusters\n",
    "    km1 = df[pred_y==0]\n",
    "    km2 = df[pred_y==1]\n",
    "    km3 = df[pred_y==2]\n",
    "    plt.scatter(km1.resmag,km1['total_count'], color='red')\n",
    "    plt.scatter(km2.resmag,km2['total_count'], color='blue')\n",
    "    plt.scatter(km3.resmag,km3['total_count'], color='green')\n",
    "    plt.scatter(km.cluster_centers_[:,0],km.cluster_centers_[:,1],color='white',marker='*',label='centroid') #mark centroids\n",
    "    plt.xlabel(\"Residual Magnetic Value\")\n",
    "    plt.ylabel(\"Total Counts of Radioactivity\")\n",
    "    plt.show()"
   ]
  },
  {
   "cell_type": "code",
   "execution_count": 69,
   "metadata": {},
   "outputs": [
    {
     "name": "stdout",
     "output_type": "stream",
     "text": [
      "[2 2 2 ... 2 2 2]\n"
     ]
    },
    {
     "data": {
      "image/png": "[encoded data removed]",
      "text/plain": [
       "<Figure size 432x288 with 1 Axes>"
      ]
     },
     "metadata": {
      "needs_background": "light"
     },
     "output_type": "display_data"
    }
   ],
   "source": [
    "scale()\n",
    "kmeans()"
   ]
  }
 ],
 "metadata": {
  "interpreter": {
   "hash": "d7b7c602f601cd784572781f5d2d50974e7b6a9d052e204afc738f785f01458d"
  },
  "kernelspec": {
   "display_name": "Python 3.9.7 64-bit ('FRI_PROJECT': conda)",
   "name": "python3"
  },
  "language_info": {
   "codemirror_mode": {
    "name": "ipython",
    "version": 3
   },
   "file_extension": ".py",
   "mimetype": "text/x-python",
   "name": "python",
   "nbconvert_exporter": "python",
   "pygments_lexer": "ipython3",
   "version": "3.9.7"
  }
 },
 "nbformat": 4,
 "nbformat_minor": 4
}
